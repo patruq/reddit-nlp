{
 "cells": [
  {
   "cell_type": "markdown",
   "metadata": {},
   "source": [
    "# Problem Statement:\n",
    "\n",
    "### Can the text of a subreddit post's `title`, `author`, and `selftext` reliably predict if a post is 'good advice' or 'bad advice'?\n",
    "\n",
    "    \n",
    "    \n",
    "### Predictors and Target Variable:\n",
    "\n",
    "**Model 1.2:**\n",
    "- The predictor variables are `title`, ` selftext`, `author`.\n",
    "- The target variable is `subreddit`.\n",
    "\n",
    "### Pipeline & GridSearch:\n",
    "- "
   ]
  },
  {
   "cell_type": "code",
   "execution_count": 1,
   "metadata": {},
   "outputs": [],
   "source": [
    "import pandas as pd\n",
    "import numpy as np\n",
    "import requests\n",
    "import nltk\n",
    "from nltk.stem import WordNetLemmatizer\n",
    "from nltk.tokenize import RegexpTokenizer\n",
    "from nltk.corpus import stopwords\n",
    "import regex as re\n",
    "from bs4 import BeautifulSoup\n",
    "from sklearn.model_selection import train_test_split, cross_val_score\n",
    "from sklearn.feature_extraction.text import CountVectorizer\n",
    "from sklearn.neighbors import KNeighborsClassifier\n",
    "from sklearn.linear_model import LogisticRegression\n",
    "from sklearn.naive_bayes import MultinomialNB"
   ]
  },
  {
   "cell_type": "markdown",
   "metadata": {},
   "source": [
    "# Create JSON Files via API:"
   ]
  },
  {
   "cell_type": "code",
   "execution_count": 2,
   "metadata": {},
   "outputs": [],
   "source": [
    "def generate_json_posts(subreddit_str, size):\n",
    "    \n",
    "    # Setup URL of API\n",
    "    base_url = \"https://api.pushshift.io/reddit/search/submission\"    \n",
    "    \n",
    "    # Create the params of the API URL\n",
    "    params = {\n",
    "        \"subreddit\": subreddit_str,\n",
    "        \"size\": size\n",
    "    }\n",
    "\n",
    "    # Response\n",
    "    res = requests.get(base_url, params)\n",
    "    res_check = res.status_code\n",
    "    \n",
    "    # Check response is good\n",
    "    if (res_check >= 200 and res_check < 300):\n",
    "        \n",
    "        # Create JSON:\n",
    "        data = res.json()\n",
    "        posts = data[\"data\"]\n",
    "        \n",
    "        return posts\n",
    "    else:\n",
    "        return f\"Check HTTP Error: {res_check}\""
   ]
  },
  {
   "cell_type": "code",
   "execution_count": 3,
   "metadata": {
    "scrolled": true
   },
   "outputs": [],
   "source": [
    "lpt_posts = generate_json_posts(\"LifeProTips\", 500)\n",
    "ulpt_posts = generate_json_posts(\"UnethicalLifeProTips\", 500)"
   ]
  },
  {
   "cell_type": "markdown",
   "metadata": {},
   "source": [
    "### Save JSON Files:"
   ]
  },
  {
   "cell_type": "code",
   "execution_count": 4,
   "metadata": {},
   "outputs": [],
   "source": [
    "# pd.to_pickle(lpt_posts, \"../datasets/lpt_posts_json\")\n",
    "# pd.to_pickle(ulpt_posts, \"../datasets/ulpt_posts_json\")"
   ]
  },
  {
   "cell_type": "markdown",
   "metadata": {},
   "source": [
    "### Read JSON Files:"
   ]
  },
  {
   "cell_type": "code",
   "execution_count": 4,
   "metadata": {},
   "outputs": [],
   "source": [
    "lpt_posts = pd.read_pickle(\"../datasets/lpt_posts_json\")\n",
    "ulpt_posts = pd.read_pickle(\"../datasets/ulpt_posts_json\")"
   ]
  },
  {
   "cell_type": "markdown",
   "metadata": {},
   "source": [
    "# Create Dataframe"
   ]
  },
  {
   "cell_type": "markdown",
   "metadata": {},
   "source": [
    "### Model Features Set:\n",
    "\n",
    "- ~~`author`~~\n",
    "    - ~~The author of the post~~\n",
    "- `title`\n",
    "    - The title of the post\n",
    "- `selftext`\n",
    "    - Included in the post, this is the 'content' of the post and appears under the title.\n",
    "    - Not every post in LPT has `selftext` - Many appear with only a title\n"
   ]
  },
  {
   "cell_type": "code",
   "execution_count": 87,
   "metadata": {},
   "outputs": [],
   "source": [
    "lpt_df = pd.DataFrame(lpt_posts)\n",
    "ulpt_df = pd.DataFrame(ulpt_posts)"
   ]
  },
  {
   "cell_type": "code",
   "execution_count": 88,
   "metadata": {},
   "outputs": [],
   "source": [
    "df = lpt_df.append(ulpt_df, ignore_index=True)"
   ]
  },
  {
   "cell_type": "code",
   "execution_count": 89,
   "metadata": {},
   "outputs": [
    {
     "data": {
      "text/plain": [
       "(1000, 70)"
      ]
     },
     "execution_count": 89,
     "metadata": {},
     "output_type": "execute_result"
    }
   ],
   "source": [
    "df.shape"
   ]
  },
  {
   "cell_type": "code",
   "execution_count": 90,
   "metadata": {
    "scrolled": true
   },
   "outputs": [
    {
     "name": "stdout",
     "output_type": "stream",
     "text": [
      "<class 'pandas.core.frame.DataFrame'>\n",
      "RangeIndex: 1000 entries, 0 to 999\n",
      "Data columns (total 70 columns):\n",
      " #   Column                         Non-Null Count  Dtype  \n",
      "---  ------                         --------------  -----  \n",
      " 0   all_awardings                  1000 non-null   object \n",
      " 1   allow_live_comments            1000 non-null   bool   \n",
      " 2   author                         1000 non-null   object \n",
      " 3   author_flair_css_class         0 non-null      object \n",
      " 4   author_flair_richtext          896 non-null    object \n",
      " 5   author_flair_text              0 non-null      object \n",
      " 6   author_flair_type              896 non-null    object \n",
      " 7   author_fullname                896 non-null    object \n",
      " 8   author_patreon_flair           896 non-null    object \n",
      " 9   author_premium                 896 non-null    object \n",
      " 10  awarders                       1000 non-null   object \n",
      " 11  can_mod_post                   1000 non-null   bool   \n",
      " 12  contest_mode                   1000 non-null   bool   \n",
      " 13  created_utc                    1000 non-null   int64  \n",
      " 14  domain                         1000 non-null   object \n",
      " 15  full_link                      1000 non-null   object \n",
      " 16  gildings                       1000 non-null   object \n",
      " 17  id                             1000 non-null   object \n",
      " 18  is_crosspostable               1000 non-null   bool   \n",
      " 19  is_meta                        1000 non-null   bool   \n",
      " 20  is_original_content            1000 non-null   bool   \n",
      " 21  is_reddit_media_domain         1000 non-null   bool   \n",
      " 22  is_robot_indexable             1000 non-null   bool   \n",
      " 23  is_self                        1000 non-null   bool   \n",
      " 24  is_video                       1000 non-null   bool   \n",
      " 25  link_flair_background_color    1000 non-null   object \n",
      " 26  link_flair_richtext            1000 non-null   object \n",
      " 27  link_flair_text_color          1000 non-null   object \n",
      " 28  link_flair_type                1000 non-null   object \n",
      " 29  locked                         1000 non-null   bool   \n",
      " 30  media_only                     1000 non-null   bool   \n",
      " 31  no_follow                      1000 non-null   bool   \n",
      " 32  num_comments                   1000 non-null   int64  \n",
      " 33  num_crossposts                 1000 non-null   int64  \n",
      " 34  over_18                        1000 non-null   bool   \n",
      " 35  parent_whitelist_status        1000 non-null   object \n",
      " 36  permalink                      1000 non-null   object \n",
      " 37  pinned                         1000 non-null   bool   \n",
      " 38  pwls                           1000 non-null   int64  \n",
      " 39  removed_by_category            624 non-null    object \n",
      " 40  retrieved_on                   1000 non-null   int64  \n",
      " 41  score                          1000 non-null   int64  \n",
      " 42  selftext                       924 non-null    object \n",
      " 43  send_replies                   1000 non-null   bool   \n",
      " 44  spoiler                        1000 non-null   bool   \n",
      " 45  stickied                       1000 non-null   bool   \n",
      " 46  subreddit                      1000 non-null   object \n",
      " 47  subreddit_id                   1000 non-null   object \n",
      " 48  subreddit_subscribers          1000 non-null   int64  \n",
      " 49  subreddit_type                 1000 non-null   object \n",
      " 50  suggested_sort                 500 non-null    object \n",
      " 51  thumbnail                      1000 non-null   object \n",
      " 52  title                          1000 non-null   object \n",
      " 53  total_awards_received          1000 non-null   int64  \n",
      " 54  treatment_tags                 1000 non-null   object \n",
      " 55  url                            1000 non-null   object \n",
      " 56  whitelist_status               1000 non-null   object \n",
      " 57  wls                            1000 non-null   int64  \n",
      " 58  link_flair_css_class           244 non-null    object \n",
      " 59  link_flair_template_id         436 non-null    object \n",
      " 60  link_flair_text                439 non-null    object \n",
      " 61  author_flair_background_color  104 non-null    object \n",
      " 62  author_flair_text_color        104 non-null    object \n",
      " 63  banned_by                      76 non-null     object \n",
      " 64  post_hint                      45 non-null     object \n",
      " 65  preview                        45 non-null     object \n",
      " 66  author_cakeday                 1 non-null      object \n",
      " 67  edited                         20 non-null     float64\n",
      " 68  crosspost_parent               1 non-null      object \n",
      " 69  crosspost_parent_list          1 non-null      object \n",
      "dtypes: bool(18), float64(1), int64(9), object(42)\n",
      "memory usage: 424.0+ KB\n"
     ]
    }
   ],
   "source": [
    "df.info()"
   ]
  },
  {
   "cell_type": "code",
   "execution_count": 91,
   "metadata": {
    "scrolled": false
   },
   "outputs": [
    {
     "data": {
      "text/plain": [
       "0     How can we help our communities during COVID-19.\n",
       "1    LPT Request: When you feel physically tired af...\n",
       "2    When you feel physically tired after a long da...\n",
       "3    If your bank has been charging you fees for a ...\n",
       "4    LPT: Have a professional voice actor voice you...\n",
       "Name: title, dtype: object"
      ]
     },
     "execution_count": 91,
     "metadata": {},
     "output_type": "execute_result"
    }
   ],
   "source": [
    "df[\"title\"].head()"
   ]
  },
  {
   "cell_type": "markdown",
   "metadata": {},
   "source": [
    "## Exploration:\n",
    "\n",
    "- Investigate additional features: `score`, `author`, `over_18`\n",
    "\n",
    "    - `author` \n",
    "         - Set cvec hyparam 'lowercase' == False\n",
    "         - Has a number of `[deleted]` author names\n",
    "\n",
    "- Notes for next model:\n",
    "    - `created_utc` & `retrieved_on` as features"
   ]
  },
  {
   "cell_type": "code",
   "execution_count": 192,
   "metadata": {},
   "outputs": [
    {
     "data": {
      "text/plain": [
       "Index(['all_awardings', 'allow_live_comments', 'author',\n",
       "       'author_flair_css_class', 'author_flair_richtext', 'author_flair_text',\n",
       "       'author_flair_type', 'author_fullname', 'author_patreon_flair',\n",
       "       'author_premium', 'awarders', 'can_mod_post', 'contest_mode',\n",
       "       'created_utc', 'domain', 'full_link', 'gildings', 'id',\n",
       "       'is_crosspostable', 'is_meta', 'is_original_content',\n",
       "       'is_reddit_media_domain', 'is_robot_indexable', 'is_self', 'is_video',\n",
       "       'link_flair_background_color', 'link_flair_richtext',\n",
       "       'link_flair_text_color', 'link_flair_type', 'locked', 'media_only',\n",
       "       'no_follow', 'num_comments', 'num_crossposts', 'over_18',\n",
       "       'parent_whitelist_status', 'permalink', 'pinned', 'pwls',\n",
       "       'removed_by_category', 'retrieved_on', 'score', 'selftext',\n",
       "       'send_replies', 'spoiler', 'stickied', 'subreddit', 'subreddit_id',\n",
       "       'subreddit_subscribers', 'subreddit_type', 'suggested_sort',\n",
       "       'thumbnail', 'title', 'total_awards_received', 'treatment_tags', 'url',\n",
       "       'whitelist_status', 'wls', 'link_flair_css_class',\n",
       "       'link_flair_template_id', 'link_flair_text',\n",
       "       'author_flair_background_color', 'author_flair_text_color', 'banned_by',\n",
       "       'post_hint', 'preview', 'author_cakeday', 'edited', 'crosspost_parent',\n",
       "       'crosspost_parent_list', 'has_selftext'],\n",
       "      dtype='object')"
      ]
     },
     "execution_count": 192,
     "metadata": {},
     "output_type": "execute_result"
    }
   ],
   "source": [
    "# Column names\n",
    "df.columns"
   ]
  },
  {
   "cell_type": "markdown",
   "metadata": {},
   "source": [
    "**`over_18`**\n",
    "\n",
    "- No NaN, but- **this a actually a pretty weighted variable**, may not be ideal to put into my model."
   ]
  },
  {
   "cell_type": "code",
   "execution_count": 220,
   "metadata": {},
   "outputs": [
    {
     "data": {
      "text/plain": [
       "0"
      ]
     },
     "execution_count": 220,
     "metadata": {},
     "output_type": "execute_result"
    }
   ],
   "source": [
    "df[\"over_18\"].isna().sum() # NaN"
   ]
  },
  {
   "cell_type": "code",
   "execution_count": 222,
   "metadata": {},
   "outputs": [
    {
     "data": {
      "text/plain": [
       "False    996\n",
       "True       4\n",
       "Name: over_18, dtype: int64"
      ]
     },
     "execution_count": 222,
     "metadata": {},
     "output_type": "execute_result"
    }
   ],
   "source": [
    "df[\"over_18\"].value_counts()"
   ]
  },
  {
   "cell_type": "markdown",
   "metadata": {},
   "source": [
    "**`author`**"
   ]
  },
  {
   "cell_type": "code",
   "execution_count": 250,
   "metadata": {},
   "outputs": [
    {
     "data": {
      "text/plain": [
       "[deleted]              104\n",
       "warren_street            5\n",
       "Maximum-Cash             4\n",
       "workhard200723           4\n",
       "vsop666                  3\n",
       "                      ... \n",
       "Hudgpop                  1\n",
       "throwaway4206991142      1\n",
       "fwiurak2                 1\n",
       "Sockemslol2              1\n",
       "LionBastard1             1\n",
       "Name: author, Length: 698, dtype: int64"
      ]
     },
     "execution_count": 250,
     "metadata": {},
     "output_type": "execute_result"
    }
   ],
   "source": [
    "# This is on the whole df\n",
    "    # Can setup a custom function org by subreddit \\\n",
    "    # Or use .groupby()\n",
    "df[\"author\"].value_counts()"
   ]
  },
  {
   "cell_type": "markdown",
   "metadata": {},
   "source": [
    "**`score`**"
   ]
  },
  {
   "cell_type": "code",
   "execution_count": 252,
   "metadata": {},
   "outputs": [
    {
     "data": {
      "text/plain": [
       "0"
      ]
     },
     "execution_count": 252,
     "metadata": {},
     "output_type": "execute_result"
    }
   ],
   "source": [
    "df[\"score\"].isna().sum()"
   ]
  },
  {
   "cell_type": "code",
   "execution_count": 255,
   "metadata": {
    "scrolled": true
   },
   "outputs": [
    {
     "data": {
      "text/plain": [
       "1       807\n",
       "0        65\n",
       "2        29\n",
       "3        15\n",
       "4        12\n",
       "6         6\n",
       "5         5\n",
       "7         5\n",
       "8         5\n",
       "10        4\n",
       "13        4\n",
       "17        3\n",
       "9         3\n",
       "21        2\n",
       "12        2\n",
       "15        1\n",
       "14        1\n",
       "18        1\n",
       "19        1\n",
       "20        1\n",
       "1837      1\n",
       "22        1\n",
       "26        1\n",
       "31        1\n",
       "1019      1\n",
       "37        1\n",
       "225       1\n",
       "800       1\n",
       "649       1\n",
       "1477      1\n",
       "439       1\n",
       "9627      1\n",
       "2437      1\n",
       "3428      1\n",
       "2387      1\n",
       "276       1\n",
       "187       1\n",
       "38        1\n",
       "137       1\n",
       "134       1\n",
       "1147      1\n",
       "122       1\n",
       "107       1\n",
       "104       1\n",
       "80        1\n",
       "69        1\n",
       "4149      1\n",
       "32        1\n",
       "Name: score, dtype: int64"
      ]
     },
     "execution_count": 255,
     "metadata": {},
     "output_type": "execute_result"
    }
   ],
   "source": [
    "df[\"score\"].value_counts()"
   ]
  },
  {
   "cell_type": "markdown",
   "metadata": {},
   "source": [
    "# Feature Engineering & Preprocessing"
   ]
  },
  {
   "cell_type": "markdown",
   "metadata": {},
   "source": [
    "### Cleaning:\n",
    "\n",
    "- **HTML Artifacts:**\n",
    "- **Non-Letters**\n",
    "- **Stopwords**\n",
    "- **Lemmatize words**"
   ]
  },
  {
   "cell_type": "markdown",
   "metadata": {},
   "source": [
    "**Lemmatize:**\n",
    "\n",
    "- This can help with some typos in our word analysis.\n",
    "    - For example, we can use lemmatization to identify `untill`, and make a necessary adjustment to model input\n",
    "- Lemmatization will not be applied to `author`, as these are the usernames attached to the post submission to the subreddit."
   ]
  },
  {
   "cell_type": "code",
   "execution_count": 92,
   "metadata": {},
   "outputs": [],
   "source": [
    "def to_lemma(data, col):\n",
    "    lemma = WordNetLemmatizer()\n",
    "    tokenizer = RegexpTokenizer(r'\\w+')\n",
    "    for i in range(len(data[col])):\n",
    "        data[col][i] = tokenizer.tokenize(data[col][i])\n",
    "        for j in data[col][i]:\n",
    "            data[col][i] = [lemma.lemmatize(j) for j in data[col][i]]\n",
    "    data[col] = data[col].apply(lambda i: \" \".join(i))\n",
    "    return data"
   ]
  },
  {
   "cell_type": "markdown",
   "metadata": {},
   "source": [
    "### Define Stopwords\n",
    "- In this iteration of the model, the `LPT` or `lpt` word will be removed from the `title` and `selftext` as a stopword."
   ]
  },
  {
   "cell_type": "code",
   "execution_count": 190,
   "metadata": {},
   "outputs": [],
   "source": [
    "stopset = set(nltk.corpus.stopwords.words(\"english\"))\n",
    "stopset.add(\"lpt\")\n",
    "stopset.add(\"lptrequest\")\n",
    "\n",
    "stopset.add(\"ulpt\")\n",
    "stopset.add(\"ulptrequest\")"
   ]
  },
  {
   "cell_type": "markdown",
   "metadata": {},
   "source": [
    "## Function to perform each Preprocessing task:\n",
    "\n",
    "- The idea behind this function is to have a function to call on a given feeature that should have all of the preprocessing tasks performed, as listed above.\n",
    "    - Otherwise, each of the above functions can be called on a feature as needed."
   ]
  },
  {
   "cell_type": "code",
   "execution_count": 94,
   "metadata": {
    "scrolled": true
   },
   "outputs": [],
   "source": [
    "def clean_df(data, col):\n",
    "\n",
    "    # Remove non-letters:\n",
    "    new_lst = []\n",
    "    for i in data[col]:\n",
    "        soup = BeautifulSoup(i, \"lxml\")\n",
    "        new_lst.append(re.sub(\"[^a-zA-Z]\", \" \", soup.get_text()))\n",
    "    data[col] = new_lst\n",
    "    # Some reference to: https://www.reddit.com/r/learnpython/comments/an62wx/how_to_remove_html_from_pandas_dataframe_without/\n",
    "    \n",
    "    \n",
    "    # Make lowercase:\n",
    "    data[col] = data[col].str.lower()\n",
    "    \n",
    "\n",
    "    # Lemmatize:\n",
    "    for i in range(len(data[col])):\n",
    "        data[col][i] = tokenizer.tokenize(data[col][i])\n",
    "        for j in data[col][i]:\n",
    "            data[col][i] = [lemma.lemmatize(j) for j in data[col][i]]\n",
    "    data[col] = data[col].apply(lambda i: \" \".join(i))\n",
    "    \n",
    "\n",
    "    # Remove Stopwords:\n",
    "    data[col] = [\" \".join([i for i in x.split()\n",
    "                           if i not in stopset])\n",
    "                           for x in data[col]]\n",
    "    \n",
    "    return data"
   ]
  },
  {
   "cell_type": "code",
   "execution_count": 95,
   "metadata": {
    "scrolled": false
   },
   "outputs": [
    {
     "name": "stderr",
     "output_type": "stream",
     "text": [
      "/Users/patrickmccaul/opt/anaconda3/envs/dsi/lib/python3.7/site-packages/ipykernel_launcher.py:18: SettingWithCopyWarning: \n",
      "A value is trying to be set on a copy of a slice from a DataFrame\n",
      "\n",
      "See the caveats in the documentation: https://pandas.pydata.org/pandas-docs/stable/user_guide/indexing.html#returning-a-view-versus-a-copy\n",
      "/Users/patrickmccaul/opt/anaconda3/envs/dsi/lib/python3.7/site-packages/ipykernel_launcher.py:20: SettingWithCopyWarning: \n",
      "A value is trying to be set on a copy of a slice from a DataFrame\n",
      "\n",
      "See the caveats in the documentation: https://pandas.pydata.org/pandas-docs/stable/user_guide/indexing.html#returning-a-view-versus-a-copy\n"
     ]
    }
   ],
   "source": [
    "clean_df(df, \"title\");"
   ]
  },
  {
   "cell_type": "code",
   "execution_count": 270,
   "metadata": {},
   "outputs": [],
   "source": [
    "df[\"selftext\"].dropna(inplace=True)"
   ]
  },
  {
   "cell_type": "code",
   "execution_count": 271,
   "metadata": {},
   "outputs": [
    {
     "name": "stderr",
     "output_type": "stream",
     "text": [
      "/Users/patrickmccaul/opt/anaconda3/envs/dsi/lib/python3.7/site-packages/bs4/__init__.py:389: UserWarning: \"https://imaginationlibrary.com/\" looks like a URL. Beautiful Soup is not an HTTP client. You should probably use an HTTP client like requests to get the document behind the URL, and feed that document to Beautiful Soup.\n",
      "  ' that document to Beautiful Soup.' % decoded_markup\n"
     ]
    },
    {
     "ename": "ValueError",
     "evalue": "Length of values does not match length of index",
     "output_type": "error",
     "traceback": [
      "\u001b[0;31m---------------------------------------------------------------------------\u001b[0m",
      "\u001b[0;31mValueError\u001b[0m                                Traceback (most recent call last)",
      "\u001b[0;32m<ipython-input-271-19206dd7b3e3>\u001b[0m in \u001b[0;36m<module>\u001b[0;34m\u001b[0m\n\u001b[0;32m----> 1\u001b[0;31m \u001b[0mclean_df\u001b[0m\u001b[0;34m(\u001b[0m\u001b[0mdf\u001b[0m\u001b[0;34m,\u001b[0m \u001b[0;34m\"selftext\"\u001b[0m\u001b[0;34m)\u001b[0m\u001b[0;34m\u001b[0m\u001b[0;34m\u001b[0m\u001b[0m\n\u001b[0m",
      "\u001b[0;32m<ipython-input-94-63a6469c11c9>\u001b[0m in \u001b[0;36mclean_df\u001b[0;34m(data, col)\u001b[0m\n\u001b[1;32m      6\u001b[0m         \u001b[0msoup\u001b[0m \u001b[0;34m=\u001b[0m \u001b[0mBeautifulSoup\u001b[0m\u001b[0;34m(\u001b[0m\u001b[0mi\u001b[0m\u001b[0;34m,\u001b[0m \u001b[0;34m\"lxml\"\u001b[0m\u001b[0;34m)\u001b[0m\u001b[0;34m\u001b[0m\u001b[0;34m\u001b[0m\u001b[0m\n\u001b[1;32m      7\u001b[0m         \u001b[0mnew_lst\u001b[0m\u001b[0;34m.\u001b[0m\u001b[0mappend\u001b[0m\u001b[0;34m(\u001b[0m\u001b[0mre\u001b[0m\u001b[0;34m.\u001b[0m\u001b[0msub\u001b[0m\u001b[0;34m(\u001b[0m\u001b[0;34m\"[^a-zA-Z]\"\u001b[0m\u001b[0;34m,\u001b[0m \u001b[0;34m\" \"\u001b[0m\u001b[0;34m,\u001b[0m \u001b[0msoup\u001b[0m\u001b[0;34m.\u001b[0m\u001b[0mget_text\u001b[0m\u001b[0;34m(\u001b[0m\u001b[0;34m)\u001b[0m\u001b[0;34m)\u001b[0m\u001b[0;34m)\u001b[0m\u001b[0;34m\u001b[0m\u001b[0;34m\u001b[0m\u001b[0m\n\u001b[0;32m----> 8\u001b[0;31m     \u001b[0mdata\u001b[0m\u001b[0;34m[\u001b[0m\u001b[0mcol\u001b[0m\u001b[0;34m]\u001b[0m \u001b[0;34m=\u001b[0m \u001b[0mnew_lst\u001b[0m\u001b[0;34m\u001b[0m\u001b[0;34m\u001b[0m\u001b[0m\n\u001b[0m\u001b[1;32m      9\u001b[0m     \u001b[0;31m# Some reference to: https://www.reddit.com/r/learnpython/comments/an62wx/how_to_remove_html_from_pandas_dataframe_without/\u001b[0m\u001b[0;34m\u001b[0m\u001b[0;34m\u001b[0m\u001b[0;34m\u001b[0m\u001b[0m\n\u001b[1;32m     10\u001b[0m \u001b[0;34m\u001b[0m\u001b[0m\n",
      "\u001b[0;32m~/opt/anaconda3/envs/dsi/lib/python3.7/site-packages/pandas/core/frame.py\u001b[0m in \u001b[0;36m__setitem__\u001b[0;34m(self, key, value)\u001b[0m\n\u001b[1;32m   2936\u001b[0m         \u001b[0;32melse\u001b[0m\u001b[0;34m:\u001b[0m\u001b[0;34m\u001b[0m\u001b[0;34m\u001b[0m\u001b[0m\n\u001b[1;32m   2937\u001b[0m             \u001b[0;31m# set column\u001b[0m\u001b[0;34m\u001b[0m\u001b[0;34m\u001b[0m\u001b[0;34m\u001b[0m\u001b[0m\n\u001b[0;32m-> 2938\u001b[0;31m             \u001b[0mself\u001b[0m\u001b[0;34m.\u001b[0m\u001b[0m_set_item\u001b[0m\u001b[0;34m(\u001b[0m\u001b[0mkey\u001b[0m\u001b[0;34m,\u001b[0m \u001b[0mvalue\u001b[0m\u001b[0;34m)\u001b[0m\u001b[0;34m\u001b[0m\u001b[0;34m\u001b[0m\u001b[0m\n\u001b[0m\u001b[1;32m   2939\u001b[0m \u001b[0;34m\u001b[0m\u001b[0m\n\u001b[1;32m   2940\u001b[0m     \u001b[0;32mdef\u001b[0m \u001b[0m_setitem_slice\u001b[0m\u001b[0;34m(\u001b[0m\u001b[0mself\u001b[0m\u001b[0;34m,\u001b[0m \u001b[0mkey\u001b[0m\u001b[0;34m,\u001b[0m \u001b[0mvalue\u001b[0m\u001b[0;34m)\u001b[0m\u001b[0;34m:\u001b[0m\u001b[0;34m\u001b[0m\u001b[0;34m\u001b[0m\u001b[0m\n",
      "\u001b[0;32m~/opt/anaconda3/envs/dsi/lib/python3.7/site-packages/pandas/core/frame.py\u001b[0m in \u001b[0;36m_set_item\u001b[0;34m(self, key, value)\u001b[0m\n\u001b[1;32m   2998\u001b[0m \u001b[0;34m\u001b[0m\u001b[0m\n\u001b[1;32m   2999\u001b[0m         \u001b[0mself\u001b[0m\u001b[0;34m.\u001b[0m\u001b[0m_ensure_valid_index\u001b[0m\u001b[0;34m(\u001b[0m\u001b[0mvalue\u001b[0m\u001b[0;34m)\u001b[0m\u001b[0;34m\u001b[0m\u001b[0;34m\u001b[0m\u001b[0m\n\u001b[0;32m-> 3000\u001b[0;31m         \u001b[0mvalue\u001b[0m \u001b[0;34m=\u001b[0m \u001b[0mself\u001b[0m\u001b[0;34m.\u001b[0m\u001b[0m_sanitize_column\u001b[0m\u001b[0;34m(\u001b[0m\u001b[0mkey\u001b[0m\u001b[0;34m,\u001b[0m \u001b[0mvalue\u001b[0m\u001b[0;34m)\u001b[0m\u001b[0;34m\u001b[0m\u001b[0;34m\u001b[0m\u001b[0m\n\u001b[0m\u001b[1;32m   3001\u001b[0m         \u001b[0mNDFrame\u001b[0m\u001b[0;34m.\u001b[0m\u001b[0m_set_item\u001b[0m\u001b[0;34m(\u001b[0m\u001b[0mself\u001b[0m\u001b[0;34m,\u001b[0m \u001b[0mkey\u001b[0m\u001b[0;34m,\u001b[0m \u001b[0mvalue\u001b[0m\u001b[0;34m)\u001b[0m\u001b[0;34m\u001b[0m\u001b[0;34m\u001b[0m\u001b[0m\n\u001b[1;32m   3002\u001b[0m \u001b[0;34m\u001b[0m\u001b[0m\n",
      "\u001b[0;32m~/opt/anaconda3/envs/dsi/lib/python3.7/site-packages/pandas/core/frame.py\u001b[0m in \u001b[0;36m_sanitize_column\u001b[0;34m(self, key, value, broadcast)\u001b[0m\n\u001b[1;32m   3634\u001b[0m \u001b[0;34m\u001b[0m\u001b[0m\n\u001b[1;32m   3635\u001b[0m             \u001b[0;31m# turn me into an ndarray\u001b[0m\u001b[0;34m\u001b[0m\u001b[0;34m\u001b[0m\u001b[0;34m\u001b[0m\u001b[0m\n\u001b[0;32m-> 3636\u001b[0;31m             \u001b[0mvalue\u001b[0m \u001b[0;34m=\u001b[0m \u001b[0msanitize_index\u001b[0m\u001b[0;34m(\u001b[0m\u001b[0mvalue\u001b[0m\u001b[0;34m,\u001b[0m \u001b[0mself\u001b[0m\u001b[0;34m.\u001b[0m\u001b[0mindex\u001b[0m\u001b[0;34m,\u001b[0m \u001b[0mcopy\u001b[0m\u001b[0;34m=\u001b[0m\u001b[0;32mFalse\u001b[0m\u001b[0;34m)\u001b[0m\u001b[0;34m\u001b[0m\u001b[0;34m\u001b[0m\u001b[0m\n\u001b[0m\u001b[1;32m   3637\u001b[0m             \u001b[0;32mif\u001b[0m \u001b[0;32mnot\u001b[0m \u001b[0misinstance\u001b[0m\u001b[0;34m(\u001b[0m\u001b[0mvalue\u001b[0m\u001b[0;34m,\u001b[0m \u001b[0;34m(\u001b[0m\u001b[0mnp\u001b[0m\u001b[0;34m.\u001b[0m\u001b[0mndarray\u001b[0m\u001b[0;34m,\u001b[0m \u001b[0mIndex\u001b[0m\u001b[0;34m)\u001b[0m\u001b[0;34m)\u001b[0m\u001b[0;34m:\u001b[0m\u001b[0;34m\u001b[0m\u001b[0;34m\u001b[0m\u001b[0m\n\u001b[1;32m   3638\u001b[0m                 \u001b[0;32mif\u001b[0m \u001b[0misinstance\u001b[0m\u001b[0;34m(\u001b[0m\u001b[0mvalue\u001b[0m\u001b[0;34m,\u001b[0m \u001b[0mlist\u001b[0m\u001b[0;34m)\u001b[0m \u001b[0;32mand\u001b[0m \u001b[0mlen\u001b[0m\u001b[0;34m(\u001b[0m\u001b[0mvalue\u001b[0m\u001b[0;34m)\u001b[0m \u001b[0;34m>\u001b[0m \u001b[0;36m0\u001b[0m\u001b[0;34m:\u001b[0m\u001b[0;34m\u001b[0m\u001b[0;34m\u001b[0m\u001b[0m\n",
      "\u001b[0;32m~/opt/anaconda3/envs/dsi/lib/python3.7/site-packages/pandas/core/internals/construction.py\u001b[0m in \u001b[0;36msanitize_index\u001b[0;34m(data, index, copy)\u001b[0m\n\u001b[1;32m    609\u001b[0m \u001b[0;34m\u001b[0m\u001b[0m\n\u001b[1;32m    610\u001b[0m     \u001b[0;32mif\u001b[0m \u001b[0mlen\u001b[0m\u001b[0;34m(\u001b[0m\u001b[0mdata\u001b[0m\u001b[0;34m)\u001b[0m \u001b[0;34m!=\u001b[0m \u001b[0mlen\u001b[0m\u001b[0;34m(\u001b[0m\u001b[0mindex\u001b[0m\u001b[0;34m)\u001b[0m\u001b[0;34m:\u001b[0m\u001b[0;34m\u001b[0m\u001b[0;34m\u001b[0m\u001b[0m\n\u001b[0;32m--> 611\u001b[0;31m         \u001b[0;32mraise\u001b[0m \u001b[0mValueError\u001b[0m\u001b[0;34m(\u001b[0m\u001b[0;34m\"Length of values does not match length of index\"\u001b[0m\u001b[0;34m)\u001b[0m\u001b[0;34m\u001b[0m\u001b[0;34m\u001b[0m\u001b[0m\n\u001b[0m\u001b[1;32m    612\u001b[0m \u001b[0;34m\u001b[0m\u001b[0m\n\u001b[1;32m    613\u001b[0m     \u001b[0;32mif\u001b[0m \u001b[0misinstance\u001b[0m\u001b[0;34m(\u001b[0m\u001b[0mdata\u001b[0m\u001b[0;34m,\u001b[0m \u001b[0mABCIndexClass\u001b[0m\u001b[0;34m)\u001b[0m \u001b[0;32mand\u001b[0m \u001b[0;32mnot\u001b[0m \u001b[0mcopy\u001b[0m\u001b[0;34m:\u001b[0m\u001b[0;34m\u001b[0m\u001b[0;34m\u001b[0m\u001b[0m\n",
      "\u001b[0;31mValueError\u001b[0m: Length of values does not match length of index"
     ]
    }
   ],
   "source": [
    "clean_df(df, \"selftext\")"
   ]
  },
  {
   "cell_type": "code",
   "execution_count": 262,
   "metadata": {
    "collapsed": true
   },
   "outputs": [
    {
     "ename": "TypeError",
     "evalue": "object of type 'float' has no len()",
     "output_type": "error",
     "traceback": [
      "\u001b[0;31m---------------------------------------------------------------------------\u001b[0m",
      "\u001b[0;31mTypeError\u001b[0m                                 Traceback (most recent call last)",
      "\u001b[0;32m<ipython-input-262-19206dd7b3e3>\u001b[0m in \u001b[0;36m<module>\u001b[0;34m\u001b[0m\n\u001b[0;32m----> 1\u001b[0;31m \u001b[0mclean_df\u001b[0m\u001b[0;34m(\u001b[0m\u001b[0mdf\u001b[0m\u001b[0;34m,\u001b[0m \u001b[0;34m\"selftext\"\u001b[0m\u001b[0;34m)\u001b[0m\u001b[0;34m\u001b[0m\u001b[0;34m\u001b[0m\u001b[0m\n\u001b[0m",
      "\u001b[0;32m<ipython-input-94-63a6469c11c9>\u001b[0m in \u001b[0;36mclean_df\u001b[0;34m(data, col)\u001b[0m\n\u001b[1;32m      4\u001b[0m     \u001b[0mnew_lst\u001b[0m \u001b[0;34m=\u001b[0m \u001b[0;34m[\u001b[0m\u001b[0;34m]\u001b[0m\u001b[0;34m\u001b[0m\u001b[0;34m\u001b[0m\u001b[0m\n\u001b[1;32m      5\u001b[0m     \u001b[0;32mfor\u001b[0m \u001b[0mi\u001b[0m \u001b[0;32min\u001b[0m \u001b[0mdata\u001b[0m\u001b[0;34m[\u001b[0m\u001b[0mcol\u001b[0m\u001b[0;34m]\u001b[0m\u001b[0;34m:\u001b[0m\u001b[0;34m\u001b[0m\u001b[0;34m\u001b[0m\u001b[0m\n\u001b[0;32m----> 6\u001b[0;31m         \u001b[0msoup\u001b[0m \u001b[0;34m=\u001b[0m \u001b[0mBeautifulSoup\u001b[0m\u001b[0;34m(\u001b[0m\u001b[0mi\u001b[0m\u001b[0;34m,\u001b[0m \u001b[0;34m\"lxml\"\u001b[0m\u001b[0;34m)\u001b[0m\u001b[0;34m\u001b[0m\u001b[0;34m\u001b[0m\u001b[0m\n\u001b[0m\u001b[1;32m      7\u001b[0m         \u001b[0mnew_lst\u001b[0m\u001b[0;34m.\u001b[0m\u001b[0mappend\u001b[0m\u001b[0;34m(\u001b[0m\u001b[0mre\u001b[0m\u001b[0;34m.\u001b[0m\u001b[0msub\u001b[0m\u001b[0;34m(\u001b[0m\u001b[0;34m\"[^a-zA-Z]\"\u001b[0m\u001b[0;34m,\u001b[0m \u001b[0;34m\" \"\u001b[0m\u001b[0;34m,\u001b[0m \u001b[0msoup\u001b[0m\u001b[0;34m.\u001b[0m\u001b[0mget_text\u001b[0m\u001b[0;34m(\u001b[0m\u001b[0;34m)\u001b[0m\u001b[0;34m)\u001b[0m\u001b[0;34m)\u001b[0m\u001b[0;34m\u001b[0m\u001b[0;34m\u001b[0m\u001b[0m\n\u001b[1;32m      8\u001b[0m     \u001b[0mdata\u001b[0m\u001b[0;34m[\u001b[0m\u001b[0mcol\u001b[0m\u001b[0;34m]\u001b[0m \u001b[0;34m=\u001b[0m \u001b[0mnew_lst\u001b[0m\u001b[0;34m\u001b[0m\u001b[0;34m\u001b[0m\u001b[0m\n",
      "\u001b[0;32m~/opt/anaconda3/envs/dsi/lib/python3.7/site-packages/bs4/__init__.py\u001b[0m in \u001b[0;36m__init__\u001b[0;34m(self, markup, features, builder, parse_only, from_encoding, exclude_encodings, element_classes, **kwargs)\u001b[0m\n\u001b[1;32m    285\u001b[0m         \u001b[0;32mif\u001b[0m \u001b[0mhasattr\u001b[0m\u001b[0;34m(\u001b[0m\u001b[0mmarkup\u001b[0m\u001b[0;34m,\u001b[0m \u001b[0;34m'read'\u001b[0m\u001b[0;34m)\u001b[0m\u001b[0;34m:\u001b[0m        \u001b[0;31m# It's a file-type object.\u001b[0m\u001b[0;34m\u001b[0m\u001b[0;34m\u001b[0m\u001b[0m\n\u001b[1;32m    286\u001b[0m             \u001b[0mmarkup\u001b[0m \u001b[0;34m=\u001b[0m \u001b[0mmarkup\u001b[0m\u001b[0;34m.\u001b[0m\u001b[0mread\u001b[0m\u001b[0;34m(\u001b[0m\u001b[0;34m)\u001b[0m\u001b[0;34m\u001b[0m\u001b[0;34m\u001b[0m\u001b[0m\n\u001b[0;32m--> 287\u001b[0;31m         elif len(markup) <= 256 and (\n\u001b[0m\u001b[1;32m    288\u001b[0m                 \u001b[0;34m(\u001b[0m\u001b[0misinstance\u001b[0m\u001b[0;34m(\u001b[0m\u001b[0mmarkup\u001b[0m\u001b[0;34m,\u001b[0m \u001b[0mbytes\u001b[0m\u001b[0;34m)\u001b[0m \u001b[0;32mand\u001b[0m \u001b[0;32mnot\u001b[0m \u001b[0;34mb'<'\u001b[0m \u001b[0;32min\u001b[0m \u001b[0mmarkup\u001b[0m\u001b[0;34m)\u001b[0m\u001b[0;34m\u001b[0m\u001b[0;34m\u001b[0m\u001b[0m\n\u001b[1;32m    289\u001b[0m                 \u001b[0;32mor\u001b[0m \u001b[0;34m(\u001b[0m\u001b[0misinstance\u001b[0m\u001b[0;34m(\u001b[0m\u001b[0mmarkup\u001b[0m\u001b[0;34m,\u001b[0m \u001b[0mstr\u001b[0m\u001b[0;34m)\u001b[0m \u001b[0;32mand\u001b[0m \u001b[0;32mnot\u001b[0m \u001b[0;34m'<'\u001b[0m \u001b[0;32min\u001b[0m \u001b[0mmarkup\u001b[0m\u001b[0;34m)\u001b[0m\u001b[0;34m\u001b[0m\u001b[0;34m\u001b[0m\u001b[0m\n",
      "\u001b[0;31mTypeError\u001b[0m: object of type 'float' has no len()"
     ]
    }
   ],
   "source": [
    "clean_df(df, \"selftext\")"
   ]
  },
  {
   "cell_type": "code",
   "execution_count": 267,
   "metadata": {},
   "outputs": [
    {
     "data": {
      "text/plain": [
       "dtype('O')"
      ]
     },
     "execution_count": 267,
     "metadata": {},
     "output_type": "execute_result"
    }
   ],
   "source": [
    "df[\"selftext\"].dtypes"
   ]
  },
  {
   "cell_type": "code",
   "execution_count": 268,
   "metadata": {},
   "outputs": [
    {
     "data": {
      "text/plain": [
       "0                                 help community covid\n",
       "1    request feel physically tired long day work ta...\n",
       "2    feel physically tired long day work taking sho...\n",
       "3    bank ha charging fee bank account good time as...\n",
       "4    professional voice actor voice voicemail messa...\n",
       "Name: title, dtype: object"
      ]
     },
     "execution_count": 268,
     "metadata": {},
     "output_type": "execute_result"
    }
   ],
   "source": [
    "df[\"title\"].head()"
   ]
  },
  {
   "cell_type": "code",
   "execution_count": 97,
   "metadata": {},
   "outputs": [
    {
     "data": {
      "text/plain": [
       "(1000, 70)"
      ]
     },
     "execution_count": 97,
     "metadata": {},
     "output_type": "execute_result"
    }
   ],
   "source": [
    "df.shape"
   ]
  },
  {
   "cell_type": "markdown",
   "metadata": {},
   "source": [
    "### Binarize target `y` variable"
   ]
  },
  {
   "cell_type": "code",
   "execution_count": 98,
   "metadata": {
    "scrolled": true
   },
   "outputs": [
    {
     "data": {
      "text/plain": [
       "LifeProTips             500\n",
       "UnethicalLifeProTips    500\n",
       "Name: subreddit, dtype: int64"
      ]
     },
     "execution_count": 98,
     "metadata": {},
     "output_type": "execute_result"
    }
   ],
   "source": [
    "df[\"subreddit\"].value_counts()"
   ]
  },
  {
   "cell_type": "code",
   "execution_count": 99,
   "metadata": {},
   "outputs": [],
   "source": [
    "# Create numeric values for y var to be passed into model\n",
    "\n",
    "df[\"subreddit\"] = df[\"subreddit\"].map({\"LifeProTips\": 1,\n",
    "                                       \"UnethicalLifeProTips\": 0\n",
    "                                      })"
   ]
  },
  {
   "cell_type": "code",
   "execution_count": 100,
   "metadata": {
    "scrolled": true
   },
   "outputs": [
    {
     "data": {
      "text/plain": [
       "1    500\n",
       "0    500\n",
       "Name: subreddit, dtype: int64"
      ]
     },
     "execution_count": 100,
     "metadata": {},
     "output_type": "execute_result"
    }
   ],
   "source": [
    "df[\"subreddit\"].value_counts()"
   ]
  },
  {
   "cell_type": "markdown",
   "metadata": {},
   "source": [
    "### Column for if post contains `selftext` called  `has_selftext`"
   ]
  },
  {
   "cell_type": "code",
   "execution_count": 113,
   "metadata": {},
   "outputs": [
    {
     "name": "stdout",
     "output_type": "stream",
     "text": [
      "924\n",
      "76\n"
     ]
    }
   ],
   "source": [
    "df[\"selftext\"].isna().sum()\n",
    "\n",
    "df[\"has_selftext\"] = df[\"selftext\"].notnull().astype(int)\n",
    "\n",
    "print((df[\"has_selftext\"] == 1).sum())\n",
    "\n",
    "print((df[\"has_selftext\"] == 0).sum())"
   ]
  },
  {
   "cell_type": "markdown",
   "metadata": {},
   "source": [
    "### Clean the selftext:\n",
    "\n",
    "- Not every subreddit post has `selftext`, which is the body of a post.\n",
    "    - It seems clear that most of the text context of the subreddits are contained in the `title` field, making it an important `predictor` variable.\n",
    "- Issues with `selftext`:\n",
    "    - `[removed]`\n",
    "    - `[deleted]`\n",
    "    - Contains emojis"
   ]
  },
  {
   "cell_type": "code",
   "execution_count": 120,
   "metadata": {},
   "outputs": [
    {
     "data": {
      "text/plain": [
       "array(['[removed]',\n",
       "       'It\\'s like painting, we all think we can do it until you see a professional painter do it. A professional voice actor can make your voicemail sound sharp and polished. It\\'s very affordable to hire voice actors online to do a specific word count voicemail. It\\'s the added touch to give a \"wow\" to your clients.',\n",
       "       '',\n",
       "       'This is really more for me than for you but I know there’s a million others like me feeling really powerless right now that this will mean a lot to.',\n",
       "       'There are whole websites dedicated to gathering manuals, hope this helps.',\n",
       "       'If you ever wanted to have a conversation with someone but the cooldown was too long (say 5 minutes), one solution I found is that you can edit your messages and keep the conversation going. It can be efficient, and is also good for hiding your conversation to other people. Use this as you wish',\n",
       "       \"Use the zoom on your phone to zoom in. I just did it to read the name of the type of canned mushrooms I have from my couch that's in the kitchen. I also use it to see what bus number is coming when its too far away to read. I use it when I'm in a restaurant and the specials board is too far away too.\\n\\nWith the likes of the S20 coming out, that would make it even more useful.\",\n",
       "       '[deleted]',\n",
       "       'Eating dried granola, esp clusters, out of the bag can only result in you looking like a fool as you try to gather it with your finger tips or you dropping a lot of what you gathered on you shirt. Either way will leave some thinking your a slob as they watch you try to eat it. Instead, pour the granola into a cup so that you can \"drink\" it. Clean and easy way to enjoy granola.',\n",
       "       'Porks back on the menu, boys!\\n\\nWith recent news of companies like Smithfield suspending production, you may wish to panic.  Please do not do so.  Evaluate your pork intake over the next month or so and be honest about.  Bacon, sausage, ribs, chops, loin, butt, what are you going to have room to store and what you really goin eat of that pork.\\nThen go buy it in a sedate manner.  It’s calm.  There is no pusillanimous pork panic perpetuating pugilism.\\nBUT there have been a whisper or two that pork may run a little short at some point for an unknown time.  \\nGood luck and may the riblets be ever in your favor.  Field OUT!',\n",
       "       'Put a short sleep before a reboot command, similar to this:\\n\\n    sleep 5 &amp;&amp; reboot\\n\\nYes, there are some implementations of the reboot command that have switches to set the delay, but not all of them. The \"dumb\" way works everywhere.\\n\\nAlso important: get used to typing the full command, don\\'t rely on an alias because eventually you\\'ll reboot a machine that doesn\\'t have the alias set.\\n\\nAs a small note, at first I used \\\\`;\\\\` between the commands, but in this case if you had a typo in the sleep command the reboot would still go through. With \\\\`&amp;&amp;\\\\` you get the reboot only if the \\\\`sleep\\\\` ran successfully.',\n",
       "       'You can alternatively do the same by using \"End\" and then \"Shift + Home\".',\n",
       "       'Digital marketers attach [UTM Parameters](https://en.wikipedia.org/wiki/UTM_parameters) to help track how you wound up at their site. It also indicates to the receiver where you found the link from and the device you were using.\\n\\nIn other cases it may include affiliate links or other tracking info. Just delete it all.',\n",
       "       'This acknowledges what they said and makes them feel that you believe them, whether you do or not.',\n",
       "       nan,\n",
       "       'Also, who knows, it might point some good that outweighs the bad and helps to patch up.',\n",
       "       \"You only have so many productive years in your life. In general, if after the first three years you've been in the market, your business it's not making any money, it isn't a business, it's hobby.\",\n",
       "       'I read this on Instagram as it was being shared because of the raise in domestic violence calls, while I hope no one ever needs to use this tip, I hope it saves lives in a case where it is used.\\n\\nI’m not aware of alternatives for other countries though.',\n",
       "       'For best results ask a series of those kinds of questions limiting to three options till you narrow it down. This is useful in a range of situations:\\nwhen you are trying to decide what to eat, \\nwhen the anxiety of so many possible answers are too much,\\n when metacognition is difficult (young, on the spectrum, other mental impedance) .',\n",
       "       \"If they haven't progressed, this makes them feel less cornered and puts them at a relative ease. Also, they're more likely to be honest with you than make up excuses.\",\n",
       "       \"I don't care if this has been said before. Most countries have been in a lockdown for at least a month now. And yet people I video call with still don't mute their mic and the larger the group the worse it gets. It means that we hear the so much echo and loads of background noise. It means that the we just keep on getting cut off by your dog barking and everyone has to wait a minute before we continue. Please mute your mic when your not speaking. \\n\\nTL;DR I am angry mute your mic\",\n",
       "       'Separating the two makes it much easier to say no, and commit to less things.',\n",
       "       \"It's also satisfying af as gross as it is to see all that fur out of the carpets. Would recommend 100/100\",\n",
       "       'Carbon monoxide is more dense than air, therefore you want to place your CO detectors about one foot (or knee height) from the floor in your home/apartment. Also, do not place them where anything would block air flow from it such as; curtains, doors, or machines. The more detectors you have; the better. Place them outside of bedrooms, on every level of your home and most importantly about 10 ft from your garage if it is attached to your home. \\n\\nDo not get a smoke detector/CO detector combo and I’ll tell you why. If you have a CO leak and no fire, you won’t know until it’s too late. Please remember that smoke rises and CO is dense and does not rise unless there is a highly concentrated amount causing it to expand in an area. By the time the CO is at a level where an alarm on the ceiling would detect it-you’ll most likely already be asleep and in the process of suffocating in your sleep(sorry for being morbid). With that being said-please note the signs of CO poisoning; light headed/headache, feeling faint, feeling sleepy for no reason, nausea and even chest pain.',\n",
       "       'Carbon monoxide is more dense than air, therefore you want to place your CO detectors about one foot (o knee height) from the floor in your home/apartment. Also, do not place them where anything would block air flow from it such as; curtains, doors, or machines. The more detectors you have; the better. Place them outside of bedrooms, on every level of your home and most importantly about 10 ft from your garage if it is attached to your home. \\n\\nDo not get a smoke detector/CO detector combo and I’ll tell you why. If you have a CO leak and no fire, you won’t know until it’s too late. Please remember that smoke rises and CO is dense and does not rise unless there is a highly concentrated amount causing it to expand in an area. By the time the CO is at a level where an alarm on the ceiling would detect it-you’ll most likely already be asleep and in the process of suffocating in your sleep(sorry for being morbid). With that being said-please note the signs of CO poisoning; light headed/headache, feeling faint, feeling sleepy for no reason, nausea and even chest pain.',\n",
       "       '...and you get nice smelling thumbs too 👍',\n",
       "       \"Of course that is if you have family that give gifts worth $100-$300. I'm looking into becoming a loan processor and my parents could have paid for an exam which is $150 for Christmas and that would have been the best gift ever.\",\n",
       "       'If you’re trying to get back at someone for being mean to you or anything and you have “easy” access to their notes from class, don’t draw lines all over them or steal them since they will probably think it was you and can easily rewrite everything and see what the original script was like, if you don’t know a lot of math try to change simple calculations without making it obvious, like put a minus sign somewhere in there or change a 5 into an 8 or that sort of stuff, if you do know math find the hardest part to understand of the problem and change it, and keep changing calculations according to it, then go back to your own business as they will go crazy trying to find the mistakes and they’ll never know it was you',\n",
       "       'Long story short we live in a really cheap apartment, our stove oven combo lit on fire and we had to call the fire department. They shut the gas off and deemed it unusable. \\n\\nMy landlord is really lax and with quarantine I’m thinking it will be quite some time before we actually get another one. Just looking for options to cook using the microwave, just any ideas really other than the basic PB and J. Thank you!',\n",
       "       'Who else reads self-growth articles? 🙋🏻\\u200d♂️ This one is my fav one, taught me how to fall in love  life. Would 1000% suggest. https://medium.com/@thrasdouvlis/how-to-love-your-life-starting-now-ba4ed95fe140',\n",
       "       'This will not only be beneficial now, but also when everything goes back to normal as you often will use a computer.\\n\\nTypingclub.com give you free lessons and websites like typeracer.com allow you to practice and have fun',\n",
       "       'People often hear a lot but hardly listen. \\n\\nA true listener hears more than just the words, he understands the emotions that drove those words, without the (initial) intention of replying.\\n\\nListening requires you to observe the speaker closely for hand gestures and facial signs.\\n\\nThis allows you to form deeper relationships and increases your potential to become a great leader but above all, it makes you a better person.',\n",
       "       \"If you need help with your maths or just can't be bothered to do it use photo math it does the question gives you the answer and working out and you just have to take a photo. If it says error you just have to type it out, i've done some testing it gave me the Correct answer 50/50 times. \\n\\nIt's on the app store and play store for free\",\n",
       "       'If you download Microsoft math solver, all you Need to do is take a photo of the maths problem or equation and it will solve it for you. I even tried it on complex algebraic equations and it still worked. If you are struggling with a question just do this and you will be given a step by step guide on how to answer it.',\n",
       "       'Seen the recent post saying that MS Office .docx files are actually zip files, that you can access by renaming them?  As it happens, a lot of other file formats are also zip files too.  To find out, open the file in a text editor (notepad is fine) and check the first 2 characters of the content.  If they are PK then the file is a zip file.\\n\\nPK is Phil Katz, who devised the zip file format.  He used his initials as a marker to identify a zip file.  In a similar vein, the man behind the .EXE file format is Mark Zbikowski, which is why the first 2 characters in every exe file are MZ.',\n",
       "       'I’ve been going through job applications for an admin role where I work and almost every applicant that has said they have great attention to detail has had multiple obvious grammatical  and spelling mistakes. All this does (other than amusing me slightly) is tell the person reading the application that a lot of the application is likely to have been embellished to a degree. So unless you really do have great attention to detail and have properly proof read  the application, it’s probably best to just avoid using it.\\n\\nAlso it’s worth noting that the person reviewing your application will likely assume you have great attention to detail if you evidence that you have read the job description and personal specification within your application rather than just saying you have great attention to detail.',\n",
       "       ' Keep a \"waiting for\" list. Every time you order something online, add it to the list. When the order arrives, remove it from the list. It will enable you to notice any items that don\\'t arrive, so that you can chase them.\\n\\nTo be extra-organized, include details in the list about where you ordered the item from, and where to find the receipt for the order. This makes it much easier to chase something if necessary.',\n",
       "       'seriously dont do it. wtf',\n",
       "       \"hello everybody!\\n\\nI've been browsing Redding for a while but I don't usually post. Up until today. I've been working for the past days on an article where I collected by best tip for working from home and I was curious if anyone has any feedback on it. It's my first time writing something like this, so please be gentle.\\n\\nTL;DR - which are your best tips for working from home and being productive without letting all the distractions get to you? Here's my list of tips in case anyone is curious - [https://misstourist.com/beginner-guide-working-from-home/](https://misstourist.com/beginner-guide-working-from-home/)\\n\\nthanks!\",\n",
       "       'So i need to pick one major between those two. Which one do you think is better and do you have any tips? Btw i like both of those.',\n",
       "       \"A good lava lamp gives off a soft glow that will be enough to light a room without being too bright. Not only that but it will also look nice and can be on all day instead of only at night unlike nightlights. Lava lamps can also be set up in more places than a nightlight so you can have one on a desk instead of trying to make space for a high use wall outlet that is in the perfect place for a nightlight. Not only that but lava lamps are pretty easy to find either online or in a store commonly found such as a Spencer's. In general a lava lamp is a good alternative to a nightlight if you want something to illuminate a room but not something that will keep you awake at night.\",\n",
       "       \"TL;DR: It may look like the easiest and cheapest way to get money, but the interest from a bank loan is a much lower cost compared to the damage money may cause to the relationship with your family and friends, and also to your emotional wellbeing. \\n\\n\\nIf you can, get the money from a neutral party like a bank. You will have to pay interest, but it's better for you emotionally. \\nIf you borrow from friends or family:\\n\\n1) You will likely think about that every time you are around them\\n2) One of you or both will feel bad about the situation\\n3) If you can't pay back on time it will cause tension / problems (especially if the other person needs it back to pay for their own dues)\\n4) You are more likely to not return the money on time, because it's family (there for delaying the trouble for everybody including yourself )\\n5) Even if you promise to return the money on day X the other person will always have some insecurity about you paying it back, causing tension in the relationship again \\n6) People talk, you borrow money and don't return it (on time or at all) , people who hear of it will most likely think less of you and lose trust.\\n\\n\\nIf you borrow from a neutral party:\\n\\n1) yes, you pay interest, but it makes you more determined to get out of the situation and\\n2) you are more likely to return the money on time, according to the return payment plan\\n3) If you cant pay it back on time, you get fined, it sucks and it's not a great feeling for you, but it's a normal procedure for the bank, they won't feel bad. It actually means more money for them. So you only worry about your own part.\",\n",
       "       'Thought this will be a great time killer.',\n",
       "       'This way you can be logged in to different accounts on websites, email etc. and also have access to different tools and documents. It creates a hurdle to log out and in to a different account so it will be easier to disconnect the two lifes virtually and it will make it much more obvious to you that you\\'re now doing something for work during your free time and vice versa.\\n\\nI think it\\'s to some degree related to the Japanese \"Point and tell\" system: [https://www.atlasobscura.com/articles/pointing-and-calling-japan-trains](https://www.atlasobscura.com/articles/pointing-and-calling-japan-trains)',\n",
       "       'http://www.thecookingguy.com/cookbook/2019/3/21/nashville-hot-chicken\\n \\n\\n\\nThat is the recipe I am using for Nashville Hot Chicken. 1/4 cup of cayenne pepper would seem like its very spicy, at a Hot level, so I was wondering how much I should use to get different heat levels?\\nLike a Mild heat would be noticeable but not burning, Medium heat would be burning a bit and runny nose, hot would be blowing you back a little bit and taking little breaks to cool down, etc. How much cayenne would each level contain? Thank you.',\n",
       "       \"It's nice to see the time you spent irl.\",\n",
       "       'The first date should be centralized around good vibe topics, and these simple acronyms will give you something to talk about and know what not to bring up. \\n\\n\\nThis also works when just meeting someone for the first time and not on a date.',\n",
       "       \"For instance if there are many pdf documents, then [this](https://www.ilovepdf.com/merge_pdf) website can be used to merge all of them into one pdf. This will improve performance and you don't have to constantly change tabs and search (Ctrl+f) what you want to find. Since everything is in one place, the searching will be a lot faster and easier.\\n\\nThanks for reading\",\n",
       "       'For instance, search \"xxx\" and you might see \"xxx death scene\" or \"\"xxx yyy wedding\", which is bad.',\n",
       "       'They will ask for your opinion and when you give your genuine opinion, will ask you why the other thing cannot be done? They have already made up their mind and just want validation from you. Arguming with them is either useless or will lead to bitterness. Either give them validation or tell them to get advice from some other expert. Will save you time and peace of mind.',\n",
       "       'Life is much easier when you are younger. Never let go of your imagination.',\n",
       "       \"It works even if they are much bigger and stronger than you, even if they are squeezing hard enough that it hurts. Practice this trick with a friend, it only takes a few minutes to prove to yourself how weak the thumb really is against this maneuver. You can transfer this to long term muscle memory and become instinctively ready to break any grip on your arm, whether its an overhand- or underhanded grip. When you can break away hard, instantly and decisively, then you'll also get the immense satisfaction of shredding a bully's arrogant confidence. You aren't nearly as easy to control as they thought you would be.\",\n",
       "       \"My parents used to say this to me all the time to make me feel better. This is pretty common in the area I live in, but it always hurt. They were basically reassuring that yes, I'm an ugly kid. Just don't say that! Reassure kids that they look fine how they are NOW, not they'll look fine LATER.\",\n",
       "       \"My parents always told me this as a child and it only hurt my self esteem more. They were basically reassuring that yes, I was an ugly kid, but someday I wouldn't be! Just reassure your kid as much as you can, make them feel good about how they look NOW, not how they MAY LOOK.\",\n",
       "       \"It's aids\",\n",
       "       'This saved me a ton of time, money, and food. I was barbecuing the other day and had a wasps nest under my grill. Put hot water and dish soap in an old Windex bottle and ended the bastards in seconds. One of the most beautiful things I’ve ever seen.',\n",
       "       'It will put you in a state of getting stuff done and it will be much easier to start the actual thing you need to do, atleast for me. Try it out!',\n",
       "       'Oh we like to think we are all very unique, but the truth is we are not. Men and women have some very basic instinct that run deep. Being able to understand the difference can help us when we have to deal with people. These people can be anyone, from out teacher, bosses, parents or our lovers.  \\n\\n\\nI will first speak of what men really crave. Most of you are thinking some very perverted thought now and that ok. But this instinct is in us from the time we are born until the day we lay down. It can be used to teach small children how to behave or learn new skills. Some mothers and teachers do it by instinct. But the skill can be learned.  \\n\\n\\nWhat men crave more than anything is Approval. Some of you may doubt this but I can prove it to you. A mother will teach her small boy to use the potty my saying stuff like”Mommy like it when you use the potty like a big boy”. The child gets her approval for the task and he feels good. On the other side if he has an accident a good mother won’t scold the child she will just say “Oh that ok, but mommy really like it when you use the potty like a big boy”. The child is reminded of the approval and that he didn’t get it this time. This lesson is very important later on in the article.  \\n\\n\\nYou also see how men behave and how they seek approval like a drug. Everyone knows of a man or two that seems to like to spend money on women. Even if there is little to no chance of that woman showing affection to that man. But the issue is when he does and she smiles and say “Oh thank you, you really shouldn’t have, but I love it” she is showing her approval. And that may set up a pattern of approval seeking where the man does it over and over again.  \\n\\n\\nHere is one the girls might see, a man who tends to value his male friend above his relationship. Why do they do this? It simple really he gets their approval. For years he has known these other men and the have shared his adventures. During this time they have approved of his behavior in what ever way he needed. There his supplier and they have his drug of choice. If you want to change this you need to be his go to person for his needs. Just like any other need that is not being met, he will seek out someone else to meet these needs.  \\n\\n\\nYou can test this theory your self. The next time some male in your life (be it a brother, friend or father) does a small thing that makes you happy, tell him “Oh thanks; I really like it when you do that”. It could be as simple as he picks up his own socks or does the dishes. And it doesn’t matter if you are male or female to test this out.  \\n\\n\\nThere are some dos and don’ts of this process and I will try and explain them here. I will tell you a secret that you may or may not know. Men can be the most brilliant minds on the planet with IQs thru the roof. But deep down we are simple in many ways. We do not communicate in as many ways as women do. We prefer direct language to any other form of communication. Women for example can communicate very effectively thru body language, looks, eyes and implied gestures. Men do not do well with this type of communication. For us it leaves to many grey areas and just leads us to wrong conclusions as many times as it does the right ones.  \\n\\n\\nSo rule one is if he does something you like, tell him. Use simple words and phrases that leave no grey area. The word “Yes” and “I Like That” are very powerful and simple. It can never be too simple nor can it have too few syllables. Even the simple phrase “I Love You” can be very powerful when used properly, platonically or romantically.  \\n\\n\\nThe other side of the coin is bad behavior and how to correct this. Many people think that if you yell or sulk or send the right body language you will fix the issues. This is simply not the case. It is better to correct the issue with positive reinforcement.  \\n\\n\\nSo rule two is do not scold or yell. The better things to do are simply with hold approval and tell the person you do not like it, but you like an alternative better. Again try this on simple things first as it can be a tougher process to master. For example “I really like it when you picked up your socks like you did last week”.  \\n\\n\\nThe most powerful use of this is of course in our relationships with our mates and lovers. This is where the man should be getting the vast majority of his approval. Keep in mind that if he is a good mate he will be feeding your basic animal need too, which we cover later in this document (assuming you’re in a standard male female type of relationship).  \\n\\n\\nAs the preferred supplier of his approval you need to keep the supply fresh and abundant. We hear about relationships breaking down and when put to the task of answering why we hear “It was the little things” or “I didn’t feel appreciated”. What they are really saying is “I was not getting the approval I though I deserved so I sought it else where”. This is a big reason why men sleep around. The approval they get from the external source may be compensating for the lack from his main supplier.  \\n\\n\\nNow that we are on the subject, we need to explore how sex and approval are tied together. Most men like sex, and the ones that don’t may have experienced some trauma during their first time that lead to low levels of approval. But any women can tell you one of his biggest questions when the act is over is “How was that”. Can we guess why now? Of course many of you take pity on the poor guy and say it was good. That is ok the first or second time, but you are not doing him any long term favors. At some point you need to apply rule two.  \\n\\n\\nOf course you need to be very gentle in the application. But on the other hand you also need to know your own body and needs. When you correct his technique you have to be smart. If he is doing something that just isn’t working for you at the time and you have a position, pace or location you prefer, don’t ask him; tell him. Move your self into that place and he will follow. This may require you to be brave. It can be very scary for you to take charge in these cases, but the benefit in the long run will be worth it. Just remember he wants your approval, and this is a way of you providing very sincere approval, which is the best kind.  \\n\\n\\nI will end this here and post the flip side of this essay in a few days. We will cover what women crave and why. Many of the same rules apply, but the technique is much different and harder to master. I will show you real world examples that many of you will recognize. We will talk about the “Neg-hit” and the loop that drives us all crazy.  \\n\\n\\nJust a closing thought. These needs are very strong. It is important that you know what they are and how they work. They are so powerful even if you know about them they still work when applied to you. The only real difference is that knowing about them helps you determine if the application is genuine because the person cares about you or simply to manipulate you. Not the one has any less value than the other in a given situation. Sometime we just want to be manipulated.',\n",
       "       \"Now's a good time to pick up a new skill and/or certification for your CV.\\n\\nBecause of lockdown if you or your relative are looking for online courses then Alison offered many online courses in 100+ languages. I joined so I thought I would share with all.\\n\\n[https://alison.com/](https://alison.com/)\",\n",
       "       'Is there a Slack thread that you need to respond to, but can’t do it now? Long press (mobile) or go to the thread menu (... on the desktop client) and select “remind me”.\\n\\nYou’ll receive a dm from slackbot with a link to the thread.',\n",
       "       'You don’t owe anyone an explanation. (Except possibly at work, but even still you can say no and deal with the repercussions)',\n",
       "       'People love talking about themselves and sharing things that excite them.',\n",
       "       \"If you have an old computer or desktop without webcam and can't join online meetings, you can use your smartphone phone as the webcam. There are apps for it, Droidcam (for android) &amp; EpocCam (for iOS)\",\n",
       "       'Note: this does not apply to mechanical hard drives (SSDs/flash memory are fine).  Hard drives will die if they get wet, or if they get dropped while turned on.  Or if they get dropped hard enough while not turned on.\\n\\nNo portable devices post-2000 besides clickwheel iPods have had mechanical hard drives, though, so you should be fine.  Laptops, however, are another story.',\n",
       "       'The solution is simple, if you wanna feel like a mildly pretty woman go to a gay bar, theyll buy you drinks and compliment you',\n",
       "       'Not sure if it’s already been done but With everything going on I thought I’d share I was recently promoted and my supervisor told me that this was one thing that set me apart from other applicants and my coworkers over the past year. \\n\\nAsking questions shows you are listening and have something to contribute. It will also allow your boss to put a face to your name if you work at a large company. \\n\\nAsk good questions that further the discussion. Have we considered...? How with that affect....? What’s the best way to...? Could you elaborate a little more on...? Really you just want to show that your actively listening and engaged in what’s going on. In the case of job interviews it shows that you understand the company and can be a productive member of the team.\\n\\nI’m a very introverted person so if I can do it anyone can. Hope this can help someone during this difficult time. :)',\n",
       "       'I always see so many people just whip out their phone and snap a picture without even thinking about cleaning the camera. It’s pretty crazy the difference it makes, and you can obviously see the improvement.',\n",
       "       \"Knowing what needs to be done doesn't mean that people will automatically follow your advice. You can have the best ideas in the world, but if you don't know how to talk to people, they'll never be implemented\",\n",
       "       \"My brother is currently in this position.  He got clean in 2012, but his hospital admissions records were visible in his permanent medical history.  His initial application for a medical certification was rejected by the FAA.  When he appealed, the FAA inquired about proof of his current sobriety.  Since he had no paper record of his sobriety, he had to start taking drug tests voluntarily to prove he is sober.  \\n\\nThe point is that as far as an employer or government agency is concerned, you are only sober for as long as you can prove you are.  Your word isn't going to mean anything to these people.  If you claim to have been sober for X period of time, the only way to prove it is to have a paper trail of regular drug tests performed by a certified lab testing service.  Despite finishing his rehab program in 2012, my brother can only prove he has been clean for 9 months.  \\n\\nHe pays about $65 per test and does it through Lab Corp in case anyone is wondering.\",\n",
       "       'Note: Not to be conflated with letting people walk all over you.',\n",
       "       \"No one needs to die alone just because they really wanted those gooey mozzarella sticks.\\n\\n\\n[The instructions](www.wikihow.com/Perform-the-Heimlich-Maneuver-on-Yourself) are easy to remember and it doesn't hurt to practice.\",\n",
       "       'Just literally wipe the water off starting from your head down to your ankles. It keeps your towels from being soaking wet (easier for reuse) and the floor/mat from having a lot of standing water. I’ve experienced really wet floors/towels from having a big family and spending the night at a lot of people’s houses.',\n",
       "       'This happened to me the other day.  I found a lost phone in a bunch of trees on a hike with my kids.  The phone was locked, with no contact info displayed on the screen.  I some generic codes (1111 etc), no luck. I called the carrier, and they couldn\\'t give me, and didn\\'t have any info on the guy for some reason.  \\n\\nSo I popped the sim out of his phone, and put it into mine.  I unlocked my phone, went to contact, and looked at the ones that were tied to the SIM card.  Called \"home\", found the guy, and gave him his phone back.  \\n\\nThinking twice, I figured this would be pretty obvious, but I\\'ve never actually heard of anyone doing this, and don\\'t think it\\'s as obvious a tip as it seems now.  Hope it helps someone else.',\n",
       "       \"A few years ago, our microwave's buttons looked awful. We discovered that the film was still on it but was getting worm down. Yesterday morning, I realized our instant pot had the same issue. It also had the protective film still on. Problem solved! \\n\\n[Peeling buttons](https://i.imgur.com/0DEhmRG.jpg)\\n[Check for protective film](https://i.imgur.com/gjRSkcx.jpg)\",\n",
       "       'After you accept an offer, delete the temporary number or app itself. No need to worry about receiving spam calls from numerous companies!',\n",
       "       'I have done this with bully box for my dog, and most recently with Terminix. Saving $50/quarter or $200 annually and still receiving the same treatments.',\n",
       "       'Note : if you\\'re a cheap citizen of third world country like me, where copyright issues don\\'t matter and books costs 15% of our minimum wage, inbox me for link of free for almost any ebooks. I assume sharing here in the post is illegal, no?\\n\\nTL;DR : for those who very rarely read non-school/college books, it is VERY DIFFERENT than your school\\'s. Most of your school books are trash, you memorize things and get nothing in the long run. Non-school books often contain practical knowledge you can use the moment you read it.\\n\\nMaybe mom has told you this million times during your child-teenagehood, but most likely she\\'s telling you to study more for school. And yes, that was boring (and useless, apart from the good grades you may acquire) af.\\n\\n\\n\\nFirst, go check your Instagram app (or any \"useless\" app in your phone), open your setting and look for your weekly/daily activity hours. It should look something like this : https://imgur.com/a/3emRIE4\\n\\nOkay, now hear me out. TRY reducing those hourly use by  30 min-1 hour everyday to read books. (No, Jeremy, comics and novels are not that kind of books)\\n\\n.\\n\\nYou have heard (and most likely realized) that experiences and mistakes are the best teachers. But guess what, IT DOESN\\'T have to be YOUR mistakes. You can learn from other people\\'s experience! \\n\\n.\\n\\nBooks are essentsially years of condensed knowledge and experience of the author. There is almost always at least 1 great book about any topic. Finance? You got it. How to masturbate better? Yep, you can find it.\\n\\nMy recommendation would be :\\n-The Alchemist by Paulo Coelho (it\\'s more like afictional lifestory, but it has many interesting moral values)\\n-Rich Dad Poor Dad by Robert Kiyosaki (a lot of people bashed this book for it\\'s misleading tips, but so far it describe the concept better than other books i\\'ve read so i don\\'t mind the occasional \"misleading\" tips)\\n-If you don\\'t like RDPD, maybe Richest Man in Babylon suits you better. It\\'s also more like a fictional lifestory.\\n-The only investing guide you\\'ll ever need by Andrew Tobias. (Alot of people recommended Boglehead\\'s guide to investing, but i prefer this one.)\\n\\nYou may find my recommendation boring or useless also, but don\\'t fret! Find your own interests and open a whole new perspective you might never think before!',\n",
       "       \"Some websites annoy you with a paywall after you've read 3-5 articles on their site  \\n\\n\\nSome sites actually load the entire article **but** prevent you from scrolling further.    \\n\\n\\nJust try adding it to the free [https://getpocket.com/](https://getpocket.com/) service, and enjoy reading the full article\\n\\n&amp;#x200B;\\n\\n^(P.s. If you know how to code you can sometimes remove the 'paywall' which blocks the rest of the article in browsers if you 'inspect elements' (I cant))\",\n",
       "       \"Unlike knives, scissors get a ton of stuff it's hard to see caught on the blades, especially if they're fabric scissors being used on heavier stuff. This makes it so they seem vastly duller than they are. A quick cleaning can make some scissors seem new.\\n\\nMy dad taught me this as a kid when I was cutting fiberglass for a boat repair. The scissors would look fine, but literally couldn't cut it. A quick cleaning of the edges, and it sailed through... until it was clogged again. \\n\\nLeaving your scissors clogged like that will actually dull the blades too, so before they get actually dull, wipe the edge after every use.\",\n",
       "       'Instead of going to google docs and and then making a new document, you can easily make a new one by typing in [docs.new](https://docs.new) into your browser. This also works with google sheets as well. ([sheets.new](https://sheets.new))',\n",
       "       'I have done this countless times with Buffalo Wild Wings or even leftovers from the night before! What I do i wet and paper towel and ring it out a little. Not soaking, but damp enough for the water to retain',\n",
       "       'If someone asks for a person’s number that you have, you should’ve give it to them right away. Just in case the other person doesn’t want that person to have their number or have a random number text them and not know for sure. Also someone might say that they know the other person but actually doesn’t.',\n",
       "       \"Use warm water (not a flame) to heat up the butane cylinder. Be careful not to overheat the cylinder, slightly warmer than body temperature should be good enough (don't exceed temperature listed on the cylinder). It works because the pressure inside the cylinder is higher than inside the lighter, and this forces the liquid butane into the lighter faster (if the lighter is hotter than the cylinder it won't fill at all, or will fill very slowly), another option is to cool the lighter (such as putting in the fridge) . This is a standard method used to transfer liquefied gasses from one tank to another.\",\n",
       "       'Transmission rates for these can be greatly reduced as a plus during this time of human separation',\n",
       "       'I usually set the broiler to high and only put my food in for 1-2 mins depending on what food it is.',\n",
       "       'Absentee ballots can be downloaded here: \\n\\nhttp://sec.state.ma.us/ele/eleabsentee/absidx.htm\\n\\nAfter filling them out and signing, emails can be sent to the election offices for your city which you can find here:\\n\\nhttp://sec.state.ma.us/ele/eleclk/clkidx.htm\\n\\nOther states, please post your absentee info in the comments!',\n",
       "       'For example, I had an ex that would always tell me I would say I’m sorry so much that “it lost its meaning”. So now I stop myself from saying sorry. \\n\\nFor example, rather than saying “I’m sorry I got jealous”, try something like “I got jealous. I leapt to conclusions, it wasn’t justified.” \\n\\nIt doesn’t have to be detailed, you’ll sort through that stuff as you continue to talk through it. But I think this is an easy approach that lets the other person knows you’re sincerely sorry, since you’re assessing your actions and displaying a desire to improve yourself. \\n\\nSorry is easy, showing you mean it takes effort. Don’t be sorry for your partner. They deserve more. If you want to be with someone you can make the effort to communicate. If you’re not willing to, you’re already checked out.',\n",
       "       \"You don't have to waste your energy everytime.\",\n",
       "       'Step 1: Pour cake mix into bowl.\\nStep 2: Pour a can of soda (your pick) into bowl\\nStep 3: Bake\\n\\nGet creative with the combinations!  A vanilla cake with root beer tastes like a root beer float.\\n\\n[recipe](https://tasty.co/recipe/2-ingredient-soda-pop-cakes)',\n",
       "       'Today I started getting spammed with notifications about \"new comments\" on posts I also had commented on. Every single new comment gave me a different push notification. These aren\\'t even replies to my comment- just separate, random comments.\\n\\nI didn\\'t used to get these, and it was automatically enabled for me, so be sure to [disable the setting](https://i.imgur.com/OAtDUFf.png) before you start getting them, too.',\n",
       "       'https://imaginationlibrary.com/',\n",
       "       'When I was a teenager, I picked up on the fact that most people want to be thought well of by other people.  So people try to contrive situations in which they can talk about how awesome they are.  On the flip side of the coin, people will often do passive/aggressive digs to denigrate their peer group, friends, and coworkers.\\n\\nFor instance, a group of guys are out at the bar and they run into a very attractive group of girls.  Guys in the group will often start doing passive/aggressive digs at each other to make their friends seem less attractive so that they themselves will appear more attractive.  Similarly, guys will start bragging about themselves...\\n\\nUnfortunately, this will often have the opposite affect.  You come off as a hater, conceded, immature, and insecure.\\n\\nSomehow, I got it in my head early in life to just do the opposite.  When I\\'m in those social situations, I immediately will talk my friends up.  So, in that same social situation I will tell the girls, \"Oh, this is my friend John, he is a ridiculously talented singer and has opened for some big time groups...\"  ... \"and this is my friend Keith, he\\'s a business genius, he\\'ll be the next Jeff Bezos with the start-ups he\\'s working on...\"\\n\\nWhen you combine the above with lighthearted self-deprecating humor, it produces amazing results.  \\n\\nI also do the same thing at work.  I will talk my coworkers up, never lying of course, but if my coworkers have amazing abilities or are good at their jobs, dependable, etc, I will broadcast that out in  work/social situations.\\n\\nMy results have been phenomenal.  When I run into that group of attractive girls, the girls will often want to know about me and think of me as a \"good guy\".  And at work, I seem to always cultivate a high degree of friendliness and loyalty from my coworkers and my opinion carries more weight with the execs and powers that be...\\n\\nLastly, I do the above with the utmost honesty and sincerity.',\n",
       "       'I currently work in marketing and manage my companies social media platforms. I have these accounts on my phone so when you message our company account I get an immediate notification. I also try to be incredibly helpful because having customers leave negative reviews or feedback publically can really hurt the companies brand.',\n",
       "       'They hardly take up any place and you never know when you might need one. Especially if you have kids.',\n",
       "       \"\\nPut the joint between your pinky and ring fingers, cup your hand, and use your other hand to make a sort of airtight chamber. Then inhale through your circled thumb and pointer. [Kind of like this](https://imgur.com/a/KEswsoj)\\n\\nHere's the article this image came from in the Detroit Metro Times\\n\\nhttps://m.metrotimes.com/detroit/how-to-share-a-joint-without-sharing-germs/Content?oid=24001081\",\n",
       "       \"Doing this could safe you a lot of money. It's relying on the community you're living, one has to believe in humanity.\",\n",
       "       \"We are washing and sanitizing our hands much more often now. Even if you didn't lotion before, your hands will need it now. If you don't have lotion you can use petroleum jelly or any oil. Olive oil and coconut oil are especially nice.\",\n",
       "       \"It seems like working harder than other people on jobs is a punishment because then they always expect a certain level from you. I see other people constantly moving slow or not doing anything (((in the presence of a manager))), but I can't chill for a second without them telling me to get back to work. And please don't tell me to mind my business and just do my job because that's beyond annoying when I watch them say nothing to the next guy, but to me when I do the exact same thing. I've had about 5 jobs total and this exact scenario happens and those exact scenarios is why I eventually quit from anger and frustration. Not quitting because the job is too hard and not being firing for not doing my job. Just quitting because of the unfair treatment while getting paid the same as people not doing anything. If they at least give me a raise like I deserve for doing more work, it'd make the situation less annoying. But nah the managers have their priorities all messed up.\",\n",
       "       \"You can use whatever crafts supplies you have and incorporate pieces from other games. Since the game is new and its creation is collaborative a unique space is created where an adult and child share a relatively balanced sense of what's going on and what will happen next. 8-12 year olds and adults are on par when it comes to simple game design. \\n\\nAnother benefit of this unique space is that the stimulating novelty of the game is a refreshing contrast to the more typical adult approach of discovering things anew through the child's eyes. Game design can bring out both the child and the adult from anyone. \\n\\nAdapted from: http://longnow.org/seminars/02017/jan/04/wonderland-how-play-made-modern-world/\",\n",
       "       \"You can use whatever crafts supplies you have and incorporate pieces from other games. Since the game is new and its creation is collaborative a unique space is created where parent and child share a relatively balanced sense of what's going on and what will happen next. 8-12 year olds and adults are on par when it comes to simple game design. \\n\\nAnother benefit of this unique space is that the stimulating novelty of the game is a refreshing contrast to the more typical parenting approach of discovering things anew through the child's eyes. Game design can bring out both the child and the adult from anyone. \\n\\nSource: Toward the end of: http://longnow.org/seminars/02017/jan/04/wonderland-how-play-made-modern-world/\",\n",
       "       \"Since so many of us are working remotely right now, we're all adapting to being seen in virtual meetings. Similarly, it's always unfortunate to see a correspondent, be it a doctor or [a professional talkshow host](https://youtu.be/DuzEd1EbT88), get cleaned up for a virtual interview only to have a hazy aura obscuring their image because they touch the camera lens while opening and closing their MacBook.\\n\\nMost laptops and cell phones have their webcams integrated with the screen glass, and you're bound to create smudges when opening the lid or swiping your finger near the camera.\\n\\nUse a lint-free cloth to clean your lens, and maybe your screen while you're at it. Avoid opening your laptop from the center if you can, or avoid rolling your thumb or finger down onto the screen glass once the lid is cracked. For phones, you'd be surprised how well a smudge-free selfie cam can perform these days.\\n\\n(Note: if you are Barbara Walters, please disregard this LPT)\",\n",
       "       'Because us techs hear all your conversations.',\n",
       "       'Because we hear everything hahaha',\n",
       "       \"In every single thread that hits the front page - and most that don't - there *will* be un/paid trolls or bad faith actors trying to steer the conversation a certain way or just kick up divisiveness.\\n\\nBefore replying and therefore giving that comment more traction it might be worth checking their profiles for a pattern of similar comments or what subreddits they frequent.\\n\\nEven negative responses to these trolls drum up more activity around their post and more impressionable people see it.\",\n",
       "       '\\\\*\\\\* Tldr at the end. Pictures of all messages will be linked in the comments.\\n\\n&amp;#x200B;\\n\\nIn my state, you are required to submit your resume through a Government Workforce website, in order to receive unemployment benefits. I was contacted via text today, by someone claiming to be a recruiter who found my resume on my states unemployment site. They knew my name, obviously my phone number, and the type of job I was looking for. The \"recruiter\" inquired if I was interested in a specific job title and salary, and I said that I was. He gave me a name and an email for the employer, said that I should message that email to speak to the employer via Google Hangouts, and that the employer was online now. It seemed a little fishy, but I didn\\'t intend to give any personal information, and wanted to see if this actually lead to a job.\\n\\n&amp;#x200B;\\n\\nAfter messaging the \"employer\" via Hangouts, he gave me the job description and asked if I felt comfortable with the requirements. He then asked me a lot of interview appropriate questions, i.e. \"How would you describe your work ethic?\" and \"What is your current typing speed?\" and \"What milestone have you accomplished in your career and would love to share?\". It all seemed very professional and like a legitimate interview. That is until he asked me for my full name, home address, city, state, zip code, and primary email for \"proper documentation. I informed him that I was not comfortable sending out this information unofficially and over Google Hangouts, so I asked if they had an official company application to submit it through. He told me that it didn\\'t matter, he already had that info from my resume, and that I should be expecting an email in the morning to let me know if I\\'m hired. I suspect that I will be \"hired\" and be asked to fill out fake a fake W2 and direct deposit form so that they can get the information that they really want.\\n\\n&amp;#x200B;\\n\\nI had done a google search on the company and name of the person that I was talking to. All the information I found appeared to point to the fact that this was legitimate, except I had not filled out an application or spoken over the phone to anyone. So, a quick google search of the company, which IS a legitimate company, took me to their website and contact information. I called, used the dial by name directory to speak with the person I had just been messaging. He answered and I said \"Hey \\\\*employer\\\\*, I believe we just spoke over Google Hangouts?\". To which he informed me that we had not. Someone is impersonating the actual employer by using their name, and an email address very similar to the legitimate email address. The legitimate employer gave me his real contact information to send him screen shots of the conversation with the scammer. Apparently I am the 4th person this week to call him after being scammed, and he has a legal team trying to put a stop to it. (He even offered to help me actually get a job with his company through the proper channels).\\n\\n&amp;#x200B;\\n\\nIt seemed very convincing, except for a few minor red flags. If I were more desperate for employment at the moment, I may not have questioned it too much. They were offering a well paying work from home position, they wrote/replied in perfect English, they already knew a lot of my information, they sounded legitimate, and they played well on my desire for employment.\\n\\n&amp;#x200B;\\n\\nTldr: Was contacted by a new, very convincing scam. No real employer is ever going to ask you for your personal information via text or email, or any kind of chat. No matter how much you need a job, no matter how good it sounds, if something seems off always, always, ALWAYS verify who you are speaking to. There are some awful people out there, very ready to prey on our desperation in these hard times. Don\\'t let them. Best of luck, and well wishes from an internet stranger!',\n",
       "       'Imagine you just found out they died yesterday unexpectedly (accident of some kind).\\n\\nScroll through your texts.\\n\\nLook at his/her social media account(s).\\n\\nReminisce on your memories together.\\n\\nThink about what you\\'d say to that person if they were still alive.\\n\\nThat\\'s how you\\'d know how you really feel about someone.\\n\\nSo next time you\\'re angry at someone or claim to \"hate\" someone, do this, then see how you really feel.',\n",
       "       \"I don't know if this is the right subreddit but I've recently received an email from someone claiming to be PayPal, and I almost fell for it so that's why I'm posting it here! \\n\\nWatch out for these scams because once you click on one of their links, your computer will be infected with a virus that'll copy all of your passwords and informations!\\n\\n[This is how its content looks](https://postimg.cc/KKp4g8HY)\\n\\n[This is how it looks in the mail list](https://i.postimg.cc/5tY1JpgV/1.png)\",\n",
       "       \"Chances are if you know a person has been down in the dumps and they have made an effort to talk to you and be vulnerable with you they would rather talk about anything but thier depression, at least to start. I have been on both ends of this and its a disheartening feeling knowing that depression is what defines you in your friend's mind and it is hard to have a conversation when the first thing that happens is a drudging up of negative emotions. Its completely different if someone brings up the depression themselves because that means they are comfortable enough with you to actually adress it and trust you enough to help them cope with it. Even if you guys have next to nothing to talk about, I highly recommend not bringing it up. In the past this has been difficult for me because I want my friends to open up to me and it is reassuring to know how they are feeling but often times if that expression is forced it can leave the person on the other end feeling even worse.\",\n",
       "       'Comptia has moved some of their exams to online so if you have been studying and was unlucky because of COVID-19 you are in luck now. Also expiration vouchers have been pushed further back. Other companies for certifications might follow suite or might have already.  Good luck!',\n",
       "       \"It's the same concept where if you dunk your head in the water at a pool or beach while it's raining. The rain just feels like more water rather than an outside force. It's one of those things where you know what I'm talking about or you dont\",\n",
       "       'I have thigh pieces with lyrics from two different songs, and a few years out I still often get one of them stuck in my head every time I pee. I love it, but it would be a nightmare if I didn’t want them in my head that often.',\n",
       "       'This service is available for free in all the states, and in Canada, but in the 811 line is only for the states. \\n\\nHere are the numbers for each Canadian territory: https://call811.com/811-In-Your-State/Canada',\n",
       "       'That was mindblowing for me the first time I read it.\\n\\nIt really helped keep my kitchen clean. Gotta wait 5 min while something is ready ? No problem, time to clean something in the meantime.\\n\\nAnother rule that helped me a lot is cleaning in the evening so that I wake up to a fresh kitchen every morning.',\n",
       "       'That was revolutionary for me the first time I read it.\\n\\nIt really helped keep my kitchen clean. Whenever I’m doing the simplest of tasks or cooking in the kitchen I try to do as much cleaning as I can.\\n\\nAnother rule I try to follow is cleaning in the evening so that I wake up to a fresh kitchen every morning.',\n",
       "       \"If you have to read a short story around 5000 characters but dont want to read it, then copy paste it into Google Translate and have it read it for you. Also, I'm not sure if this was posted already because I'm new to this subreddit.\",\n",
       "       'Hey everyone, my girlfriend and I have been stuck inside due to social distancing just like all of you and we recently decided to fight our boredom by planning and hosting a digital music festival with some close friends.\\n\\nWe put together a plan over a few weeks and it was surprisingly difficult given the constraints of audio. We ended up having to set up two separate beta tests with our friends to make sure our whole plan + tech worked to simulate the in-person experience as much as possible.\\n\\n**Everyone ended up having a TON of fun.**\\n\\nGiven everyone\\'s current situation, we really feel like the world needs more experiences like this to feel connected.\\n\\nSo we took all of our planning and put it in a free spreadsheet kit that contains things like lineup sets that people can sign up to \"DJ\", instructions on setting up audio/video to simulate being in person at a festival, drinking games, and more.\\n\\nIf anyone else is missing music festivals as much as we do, we put our kit online for free if anyone else wants to host your own DIY Music Festival with your friends!\\n\\n[**DIY Music Festival Starter Kit**](https://www.diymusicfest.com/?utm_source=reddit&amp;utm_campaign=LifeProTips)',\n",
       "       \"If you're scared of skinning yourself with a peeler or knife, you can use steel wool to taken the skins off these veggies. It's really quick and much easier on your blood supply. Ideally use a clean scrubber. For deep imperfections I still use a knife but steel wool works great for skin and dirt.\\n \\nYou can also use a spoon to take the skin off ginger (they're usually to small for wool).\",\n",
       "       '[www.beulr.com](https://beulr.com)',\n",
       "       \"This can be useful for that situation when you're not sure about whether you should go in for that kiss or not.\\nNote: I'm never going in for a kiss.\",\n",
       "       'Often you will be able to find amazing deals at the end of the season or in the offseason!',\n",
       "       '[26m] just relized today that deep sea fishing may come much sooner than expected.',\n",
       "       'If you’re using a phone without modifying the software then you can’t get adblock for youtube.\\n\\nNormally this is bearable, but if you see “Ad 1/2” and are unable to skip the ad it is quicker to hit the ‘i’ in a circle on the bottom left select “I don’t want to see this ad”.\\n\\nIt takes a fraction of the time that watching all tue adverts would take.\\n\\n\\n\\nLet me know if this helps anyone :)',\n",
       "       \"a cool clammy handshake during a networking event is a surefire precursor to a poverty-filled, unsuccessful life. Seriously, though, it never looks good to juggle that brew in your hand before shaking someone's hand, and keeping a cold one in your southpaw will ensure a warm, friendly hand shake with ol' righty. Unless your palms are naturally sweaty and cold, which is another problem altogether.\",\n",
       "       'This adds a bit of luxurious sensual pleasure to showering or bathing at little cost. The extra fabric translates into a warmer and softer drying experience. Also, since linen is so absorptive, it’s especially effective at quickly drying water from the face. \\n\\nIf both towels are draped over the curtain rod ahead of time, after the shower is done heat can be retained in the shower by not opening the shower curtain. At this point, one towel can be draped over your head and worn like a back-drying cape while the other one can be used to dry other parts of the body. All in all, it makes for a cozier, more lavish routine.',\n",
       "       'LPT on reddit:\\n\\nFor large text, put a hashtag in front of the text\\n\\nFor a black box, use &gt; ! Text ! &lt; Without spaces\\n\\nFor bold, use two asterisks around the text\\n\\nFor italics, use one asterisk around your text\\n\\n#large\\n\\n\\n&gt;!black box!&lt;\\n\\n**Bold**\\n\\n*Italics*\\n\\nNormal text',\n",
       "       \"People like to meet irl, if they gotta go on Reddit and post, it's not a good sign regardless of any sort and any kind of circumstances.\\n\\nThere is no workaround or escape from this logic. You're much better finding your own way to things, and try to avoid messing around. Better one long relationship, than a hundred short ones, we can then have a healthier planet.\\n\\nIt is unfortunately or fortunately a right to be free to do whatever one wants, but we pay all the consequences and get all the rewards of any decisions, that's my tip. \\n\\nIf you are able to understand, don't blame it on something else, take responsibility of what you do, as much as you can afford.\",\n",
       "       'If you find yourself getting bored of \"Best\" or \"Hot\" for all the subreddits you subscribe to because you\\'re 1000 posts deep, try browsing /r/All on either Hot or top of the hour, or top of the day for some new content. Be warned, you may need a thick skin unless you turn on a few filters or prepare to be tolerant of what others do.',\n",
       "       'Many times items with lower price tag turn out to be much more expensive if you only use it a couple times versus everyday.',\n",
       "       \"People like to meet irl, if they gotta go on Reddit and post M4F, F4M, it's not a good sign regardless of any sort and any kind of circumstances.\\n\\n\\nThere is no workaround or escape from this logic. You're much better finding your own way to things, and try to avoid messing around. Better one long relationship, than a hundred short ones, we can then have a healthier planet.\\n\\n\\nIt is unfortunately or fortunately a right to be free to do whatever one wants, but we pay all the consequences and get all the rewards of any decisions, that's my tip. \\n\\n\\nIf you are able to understand, don't blame it on something else, take responsibility of what you do, as much as you can afford.\",\n",
       "       'Works great for me for the last couple of years.',\n",
       "       \"This is useful if you're able to add the items to your cart but can't checkout because there aren't any delivery slots. You can even tick off/remove items as you're picking them up when in store.\",\n",
       "       'Once you’ve added your card to Apple Pay and verified it, you can pay at almost any contactless card reader with no limit. It will verify your identity with your FaceID or TouchID each time you use it or, if you have neither of those set up, it will ask for your passcode. \\n\\nThis should be especially useful for avoiding touching the buttons on the card reader for purchases over a certain amount. \\n\\nThere are a few exceptions. In the U.K. for example, petrol stations do not allow Apple Pay on payments over £30 when you pay at the pump.',\n",
       "       'Write tasks on little pieces of paper, fold them and when you feel like doing something productive, just pick one out at random. It’s also much more fun for kids to pick chores at random. Makes them complete different chores instead of just sticking to doing the one they find the least bothersome.',\n",
       "       'Write tasks on little pieces of paper, fold them and when you feel like doing something productive, just pick one out at random. For repetitive tasks like changing bed sheets or cleaning the fridge you can also just put the note back into the jar for another time. It’s also much more fun for kids to pick one at random. Makes them complete different chores instead of just sticking to doing the one they find the least bothersome.',\n",
       "       'Anecdotal evidence: works 9 times out of 10.  \\nAlso, be super polite! Kindness goes a long way.',\n",
       "       'Hear me out here. Most modern routers have two to three frequencies(not sure if this is the right word). The most common ones being 2.4 Ghz and 5 Ghz. Most routers have an option to make multiple SSIDs on each frequency. Now what I did was make an individual SSID for all my family members (4 people) on the 2.4 Ghz frequency and removed any mention that it was, in-fact, on the 2.4 Ghz frequency. Next, I made an SSID for my name on the 5 Ghz frequency. This way, the 5 Ghz channel has no traffic except my phone and laptop. I have noticed slightly better figures for latency.',\n",
       "       \"A clothespin or otherwise small bent metal should work fine too. If the metal gets bent back, find a longer piece you could fold in on itself to form a multi-layer circle that shouldn't budge now.\",\n",
       "       \"Question taken from Tim Ferris's book Tribe of Mentors.\",\n",
       "       \"If you lean forward and put a hand behind you into the toilet bowl, you can splash upward at the mess.  Gets the chunks out and leaves you feeling cleaner than with TP.  Make sure to flush before you do this though so you aren't splashing poopy water at yourself.  And wash your hand after.\",\n",
       "       'I find it very helpful because I used to remember the right answers because I was reading \"unintentionally\" but turning it upside down makes me more disoriented.',\n",
       "       'The trick is to make it unnoticeable. If you lower it too much, people may ask you to speak louder.\\n\\nPractice is key.',\n",
       "       \"As your country would go out from the lockdown, you can use this change to improve your habits. \\n\\nFor example: if you were eating junk food often, and wanted to quit, you probably have two weeks or more of this habit interrupted. When you go out, you'll experience the same triggers, but much weaker. Be mindful of it, and breaking bad habit will be easier/possible.\",\n",
       "       'I remember back when picking colleges how important everybody tried to make the rankings seem. How we all poured over sites like USNews or Forbes or Princeton Review. Agonizing over bs like acceptance rates and SAT score ranges.\\n\\nThen while actually in college, my University administration acted like the school moving up or down in the rankings was going to somehow make or break our future after education. \\n\\nBut once out in the real world for a while, it became apparent how meaningless this all was. Its all for nothing but bragging rights for people in academia.\\n\\nI\\'ve hired a lot of people. I\\'ve talked to countless hiring managers and executives across a variety of industries.  I\\'ve been in many meetings going through applications.  Consensus is...for the most part as long as you have a degree, nobody really cares where you went to school. And after you\\'ve landed your first job out of school...it matters even less.\\n\\nIn fact, when I\\'m browsing resumes I barely even glance at the school at all. My eyes go immediately to past work experience and skills. If they match exactly to what we need for the job, they advance to the next stage. I\\'m much more impressed by the guy who went to community college and has amassed a wide range of relevant skills, than the top 10 school grad who is probably smart but hasn\\'t proven their work value.\\n\\nIf somebody went to a lesser known school, I\\'d never assume they\\'re not as good of a candidate. For all I know they grew up in a poor household...or went to a bad high school...or slacked off in high school but got their act together at some point after. \\n\\nTheres a few exceptions.\\n\\n1. Theres a select few \"snobby\" fields out there where the school name maybe holds some weight (like academia). But for the most part in those fields your undergrad is far less important than graduate degree.\\n\\n2.  Theres some companies out there who recruit directly from certain top schools.  But that isn\\'t tied to rankings so much as the quality of program they have for that specific field.\\n\\n3. If you went to an Ivy League school...yea its probably going to jump out out in a stack of resumes. It may get you an extra minute of attention. \\n\\n4. If you happened to go to the same school as the hiring manager, it could help. But that advantage can be gained just going to a huge school regardless of rank.\\n\\nOther than that, nobody cares if you went to the school ranked #20 vs the school ranked #120. The hiring manager probably has no idea. And that name tells us almost nothing about whether or not you\\'re a good fit for the job.\\n\\nAnd within many fields, the schools with the best programs are barely known to outsiders (and have nothing to do with rankings). \\n\\nWhat is actually important is amassing a diverse range of relevant skills for your field, networking, and gaining work experience. Internships are more valuable than any course you\\'ll ever take. A lower ranked Co-Op school will probably give you more of a leg up than a higher ranked school without a lot of focus on internships. And finding a school that has a good specialized program in your desired field will be far more helpful than a higher-ranked generalist university.',\n",
       "       \"I've made the habit of always putting some paper in before i go and this has saved me countless times as my workplace and home seems to be lacking people who voluntarily changes the TP roll. In public this cam lead to a disaster.\",\n",
       "       \"This has always worked for me. If your kid won't stay still give them a massage where the pain is with moisturiser.\",\n",
       "       \"Just found that out by accident and thought it's a neat feature for some people who copy and paste lots of stuff throughout the day and sometimes wish they didn't need to go back and search the link or text they copied 3h ago.\",\n",
       "       'I  use windows and I know that Alt+Tab changes application windows the quickest, but only to the last 2 tabs, maybe three  (Note- you can change all tabs with that combination but as i said, a lot of button tapping).\\n\\nI learned that WindowsKey+Numbers(0-9) would pretty much show me the pinned/opened window on the taskbar. Pretty helpful',\n",
       "       'I browsed r/quityourbullshit alot.',\n",
       "       'Recently I had a video game I was highly invested in spoilt for me on social media just as I was reaching the climactic ending. I’ve had plenty of things spoilt for me in the past and it’s one of the worst feelings to have your expectations thrown out the window. Instead of completely withdrawing from what you were investing in, simply rewire it so that it’s not about the ending that was spoilt, but the journey that was not.',\n",
       "       'My gf revived a message from a creep who claimed his name was Connor I texted him and he said his name is Bailey I have his phone number and need help on what I can do. Thank you.',\n",
       "       'Obviously if you have a full on infestation call pest control, or set traps/poison. We used to get sugar ants in a few rooms when we owned a very old, drafty house; not enough to go full nuclear about it, but a few dozens each day for a couple weeks a year. One day, sitting on the toilet minding my own damn business, I feel a tickle on my foot. Dozens or tiny ants. I happened to have a lint roller on the counter. Just rolled right over their asses. Not only did it kill them, but I didn’t have to get cleaner to get their dead squished bodies off my floor. Small life tip, but useful!',\n",
       "       'Obviously if you have a full on infestation call pest control, or set traps/poison. We used to get sugar ants in a few rooms when we owned a very old, drafty house; not enough to go full nuclear about it, but a few dozens each day for a couple weeks a year. One day, sitting on the toilet minding my own damn business, a feel a tickle on my foot. Dozens or tiny ants. I happened to have a lint roller on the counter. Just rolled right over their asses. Not only did it kill them, but I didn’t have to get cleaner to get their dead squished bodies off my floor. Small life tip, but useful!',\n",
       "       \"I picked up athlete's foot donkey's years ago at school as a teen, and with sometimes painful cracks forming between my toes, for years I tried every over the counter product I could find, plus a prescription drug or two along the way. No matter what, it never quite fully went away. \\n\\nA few years back I started spreading each toe apart and carefully drying between them with a hairdryer every single time I got out of the shower, and after a few months everything cleared up and has never returned! I do it to this day, bonus points for your toes feeling great when they rub together after, highly recommended!\",\n",
       "       'If you’re on a really tight budget, Baked potatoes are very very cheap, and very nutritious and filling. A bag of jumbo russet potatoes is only 5 dollars and will keep you full for hours. They’re a lot healthier than ramen noodles, and are about the same price if not cheaper. Optional: add shreded cheese, butter, sour cream, salt &amp; pepper. Bake for 45 minutes at 425 F.',\n",
       "       'Just don\\'t do it. Even the smallest things like, \"my brother definitely ate the last cookie\" to \"my wife has arrived late from work so she must be sleeping with that co-worker\",  it\\'s not helpful or productive.\\n\\nA better way to solve problems is to build a habbit of communicating concerns and questioning peoples behaviours. \\n\\nAssumtion seems to stem from the fact that we think we\\'re too smart for ourselves, so we become mind readers to try and guess what others are thinking as an easy fix to calm down our social anxiety. When it just causes mayhem in our lifes. \\n\\nFor three years I thought I was a horrible student cause a professor always seemed to be unimpressed and disappointed with my work. NO, he told me that he thinks im an excellent student that works hard, but i convinced myself thay I wasn\\'t. Turns out i just assumed that cause he\\'s just a tried old guy with a resting bitch face. \\n\\nJust look back in your life and really ask the question , \"has assuming situations or peoples behaviours ever helped me?\" If the answer is no then you\\'ll realise how clear your life will get when you don\\'t rely on it.',\n",
       "       'Before anyone comes for my neck, only do this is you feel safe doing so or live in a safe neighbourhood!\\n\\nI am definitely not a morning person and can really struggle to wake up for work every day. With the curtains drawn, my bedroom is almost pitch black at night and it takes forever to adjust to daylight when I leave my room in the morning. However since leaving my curtains a few inches open to let sunlight through my window, I feel awake much more quickly because the adjustment is not as abrupt.\\n\\nWhen I studied overseas I noticed the same thing. Even though I was absolutely exhausted every day, I felt perfectly bright in the morning because I lived on the top floor of an apartment block and pinned my curtains back at night to let the sunlight in the next day.',\n",
       "       \"Check the manual and there will usually be a menu setting to set it to silent. My gf did this to our microwave and I'll never go back.\",\n",
       "       'Wood (floors and furniture) is the only exception to this. Some kitchen/bathroom cleaners are not safe for all surfaces (like granite for example) but it will always say which surfaces it’s approved for on the bottle. Stick to one cleaner for your whole house and spend that money elsewhere! \\n\\nAlso Clorox/Lysol WIPES are the biggest cleaning scam ever invented. All it is is a pre-soaked paper towel with the same product as what comes in the bottle for half the price.',\n",
       "       \"Forget how I developed this but it is seriously insane how efficiently you instantaneously see every big and tiniest shard or speck of glass around!!\\nSoooo much faster and safer to clean this way.  Just make sure of proper disposal and you're once again one cool cat.\",\n",
       "       'From tihs point on every time you grocery shop buy one set of something you think will help keep you alive if the economy collapses.\\n\\nExamples: Trip one you buy 20 lbs of rice (8 bucks) Trip two you buy 20 lbs of beans (10-14 bucks).. honey, canned veggies, spies ect ect.\\n\\nIf shit hits the fan you now have enough food to last you for months, hell maybe even years if you ration. Worst case you got a pantry full of food to eat at your leisure. \\n\\nI would also recommend learning local foraging',\n",
       "       'LPT- If you have bad customer service, don\\'t say to the manager \"you need to fire that person\". It immediately can lead to be perceived as you telling them how to run their business. If you speak calmly and genuinely, they will actually listen to what you say and are more prone to considering your information.',\n",
       "       'We usually just seal up the diaper and toss it to the outdoor garbage bin right away, but the bags hold in the smell enough to give you an extra day or two before needing to change your indoor garbage.',\n",
       "       'Most of us can’t use our reusable bags right now as grocery stores are asking us not to (because germs). Now is as good a time as any to collect your bags, launder the washable ones, and wipe down (and disinfect) the non-washable ones. When we get back to the “new normal” you’ll have nice clean bags.',\n",
       "       'This is especially helpful for outdoor spaces. Take photos during spring with lush gardens and green spaces in case you list in the colder months',\n",
       "       'Hi guys young redditor here and before I start, I am on mobile and English is my first language but I’m just not good at it. Okay now in to the real post. I want to be able to think faster and more effectively. I can’t do stuff in my head fast enough down to the most simple of things sometimes. I’m slow at math, make stupid mistakes IRL. A lot of these I should have already learned to avoid but than just do the same thing a million more times before it sticks. I think that if I were, for example, able to look at a chair that I’ve stubbed my toe on 10 times already and process not to step there before I do. Or I die on CSGO by rushing B and then do the same for the next three rounds, and die all three. That kind of stuff. If you have any suggestions it would be helpful. Thanks!',\n",
       "       'Also they can be bleached which prevents that nasty mildew smell.',\n",
       "       'Also read the car manual. My car manual showed me a secret compartment that I keep these quarters in.',\n",
       "       'Like that one about cars posted a while ago',\n",
       "       'A little background: My aunt has lived her whole life in the US. Me, I was born somewhere else and recently moved to the US for studies.\\n\\nMy credibility: I know a little about gold because many of my friends back home are goldsmiths and/or own gold jewelry shops.\\n\\nHere\\'s the story: Recently, me and my aunt went to a gold jewelry store. My aunt usually goes there and buys all her jewelry from there. When we walked in to the store, I sat on a seat to the side while my aunt was conducting her business. \\n\\nShe had brought some old gold jewelry with her that she doesn\\'t use, and wanted to sell it to the store, and then buy some new sets.\\n\\nI was sitting there and I overheard the shopkeeper saying \"yeah we will buy your old jewelry for $15/gram and the new jewelry is gonna cost you $30/gram.\" I usually mind my own business but this is certainly unjust, and a total scam! \\n\\nThere is NOTHING like \"old\" gold or \"new\" gold. Gold is a precious metal BECAUSE it doesn\\'t corrode/rust or get damaged. \\n\\nI proceeded to the shelf and asked the shopkeeper what he meant by \"old\" gold. He just gave me the \"well you know this is used etc\" and I said \"my guy, what the actual crap are you talking about? Gold is gold! it doesn\\'t depreciate! We\\'ll sell this back to you for $30/gram. Not a cent less!\" \\n\\nNeedless to say, his decades long scam ended with us, and we weighed the jewelry, and he bought it back for $30/gram. But who knows how many other people he is scamming who simply don\\'t know there is no such thing as \"old\" gold. \\n\\nSo ladies and gentlemen, remember this! Gold does NOT depreciate! If you buy a necklace now, and decide to sell it 10 years later, with adjusting for inflation and the current gold rates (which don\\'t fluctuate much), you should be able to sell your gold jewelry for the same $/gram amount.',\n",
       "       'If you’re gonna buy a whiteboard DO NOT just order one online as it is soooo expensive coming to sometimes over $40 or £30 \\n\\nGo to your local hardware store (Homebase, Homedepot etc) and look for a “Melamine Panel” or sometimes even a “White Board panel” you can test if they are the ones your looking for by just feeling it or using a marker.\\n\\nThese boards often turn out to be a lot cheaper and have a lot more variety in sizes so that you can get the one perfect for you!\\n\\nIt’s Recommended you go over the board with Krylon or Turtle Wax (Not acetone as that can ruin the acrylic) before using it to prevent it from staining easily, keeping its clean white colour.',\n",
       "       'Pick someone no one would connect you with and use their answers. Pick a character in a book. No one can use your social media to answer your security questions and if you forget the answer , you can look it up.',\n",
       "       \"I think erring on the side of being a better friend, being kinder to acquaintances and strangers, and treating your subordinates with more dignity will never let you down.  I'm no expert on human psychology, or philosophy, have not lived an exceptional life, but you will never regret kindness.  It takes effort and self awareness, but I think  the earlier in life you learn this lesson the happier you will  be in terms of the outcomes of your relationships.\",\n",
       "       'It’s far better to be honest and speak how you feel than to preface everything to justify saying it. \\n\\nOr don’t say shitty things.',\n",
       "       'What do you taste with? Your tongue.\\n\\nAs long as it isn’t anything that drips then you’re all good and you’re gaining one bite worth of extra flavour',\n",
       "       \"Leaving dishes in the sink is easy. Cleaning them after they've been sitting is way harder than cleaning when they're fresh.\\n\\nWaiting to fold laundry is easy, but then the clothes are wrinkled and you'll have to deal with that later.\\n\\nExamples are endless\",\n",
       "       'For good measure, you can add some terms like \"Stop receiving these emails.\" All told, this will easily catch almost all such emails, and mostly ignore legitimate ones because people rarely actually use such terms in correspondence.',\n",
       "       'You could potentially save hundreds of dollars every year.',\n",
       "       'I’ve been doing the keto diet for 2 years and along the way I have used green beans as a noodle substitute. From green bean “Mac and cheese” to green bean “hamburger helper” they have been a great filler. \\n\\nI am an extremely picky eater so cauliflower and other substitute still weren’t something I enjoyed. \\n\\nIf you like green beans and are looking to cut some carbs or calories out of your diet, it might be worth a shot.',\n",
       "       'It’s grammatically incorrect. Don’t over complicate sentences and instead just say e.g “I don’t have ___” - simple! Although people will know what you’re trying to say, you’ll sound more legitimate if you say it correctly.',\n",
       "       'I like to use [hindustantimes.com](https://hindustantimes.com/) because India is a free democracy and believe it or not their official language is English.\\n\\nhere is an example\\n\\n[https://www.hindustantimes.com/india-news/covid-19-outbreak-call-grows-for-law-to-protect-doctors-from-violence/story-0KKCkwQA8i5UY1VDjDQnlM.html](https://www.hindustantimes.com/india-news/covid-19-outbreak-call-grows-for-law-to-protect-doctors-from-violence/story-0KKCkwQA8i5UY1VDjDQnlM.html)',\n",
       "       \"Wife just told me this. I've been doing this wrong all my life.\",\n",
       "       ' If you are more interested in learning about [me@rescam.com](mailto:me@rescam.com), please visit this link for more information: [https://www.rescam.org/](https://www.rescam.org/)',\n",
       "       'So today I went through my post history for the last year, and when I did I realized most of the stuff I posted got no views at all and deleted all of that and that some of the stuff I posted was just stupid. So I recommend for you guys to go through your post history and clean it up. Maybe you said something Stupid or 3 years ago and forgot about it. Also',\n",
       "       'If you like someone and she tells you he or she is homophobic dont try to tell them something like \"maybe i can ur thoughts abt that\" it will probably only result in them being pushed away from you and u losing a chance at even being friends',\n",
       "       'I can\\'t count how many times I needed friends and family in my life, everyone does, no matter if you admit it now or not.\\n\\nAnyway, be blunt and straight to the point, usually people appreciate it more than not.\\n\\nInstead of \"hey how are you, long time no speak, how\\'s it going\" before you request, say something like \"hey, i need this and that\"... If you get response, then get the conversation going into \"how\\'ve you been, how\\'s it going etc\" and continue a conversation... \\n\\nIt feels more genuine and I can\\'t count how many times people have actually said something like \"hey, you know you\\'ve been straight forward about it and I understand\" and then proceed...\\n\\nIt could be ulpt i know, but anyway...',\n",
       "       \"\\n\\n1. DON'T SHOP WHEN YOU'RE HUNGRY.\\n\\n2. DON'T DATE WHEN YOU'RE HORNY.\\n\\n3. DON'T UPDATE YOUR STATUS WHEN YOU'RE DRUNK.\",\n",
       "       \"Okay. I don't normally do this type of thing but I am sort of at desperate reaching here. \\n\\nI have an international trip planned within the next few weeks and planned on getting my passport expedited. I have an itinerary and an actual trip booked. But the post office suspended expedited passports unless it is a life or death emergency with provided either death certificate or doctors note, not sure if they take an obituary. \\n\\nMy question is, is there any way I can get around this with a fake document? Do they verify with the doctor? This was planned in March for school so I wouldn't receive my passport in time if I chose standard processing anyways. I was going to expedite it. \\n\\nIs there any way around this\",\n",
       "       'If you are having trouble passing a math class, most, if not all classes are being held online right now because of pandemic restrictions. Use this time to take it online, buy a mathway account to plug in the equations and finish your class with an A.',\n",
       "       'If you are having trouble passing a math class, most, if not all classes are being held online right now because of pandemic restrictions. Use this time to take it online, buy a mathway account and finish your class with an A.',\n",
       "       'So I started a business that has been extremely successful lately, and my friend who wants to come visit and help can\\'t travel here because it\\'s not considered \"Essential\" travel. What can he say/do to get into the States?\\n\\nKeep in mind that getting him back to Canada is not a high priority, as he can likely wait until the lockdown is over.',\n",
       "       \"I catfished a girl with the pictures of a much more attractive muscular guy in the beginning. After she's swiped right on tinder, I got her instagram and sent a few more photos of the same guy. I thought at that point that she'd understand that I'm not real, but she didn't. After that she wanted to sext, and we did it. I made her cum through writing texts and when she asked for dickpics I sent mine and she liked it. We made a voicecall as well and she came while we were talking. Now she's literally begging me to make the things I've talked about to her in real life after the quarantine ends. Well, I didn't expect this to happen. Now I want to get together with her, but I also don't want to lose her after I reveal myself. I expect her to ghost if I revealed myself because I am not as muscular. How/Should I reveal my real identity to her and continue as my real self? \\n\\n&amp;#x200B;\\n\\n&amp;#x200B;\\n\\nTLDR: I catfished some girl into talking me with fake photos, but then sexted with her WITH MY OWN NUDES AND TEXTS AND VOICE which she adored. How do I reveal my real identity to her without losing her?\",\n",
       "       'I’m in a weird situation at work. I’m getting the receipts for office supplies every week in my email, but my coworkers credit card is on the account and he is the one actually getting billed. He spends all his money and doesn’t notice the transactions (which are about $100 per week).\\n\\nI’ve been expensing the transactions for a few weeks now with no repercussions. My question is: how can I keep this going for as long as possible?',\n",
       "       'If you have the means, do it. Sony will not help you if your account has been compromised because they have no phone support and their chat support is limited.\\n\\nTheir account at @AskPlayStation is even worse since it just refers you to either the website or phone support.',\n",
       "       \"A few old friends betrayed me and are now harassing me so I'd like to do this to annoy them.\",\n",
       "       \"Just google corrupt my file and you'll find sites that you can upload your file and they'll give you a corrupted file in return. Send the corrupted file to who ever and this will buy you some time until you finish your work. \\n\\nI just used [corruptmyfile.com](https://corruptmyfile.com) and was able to get basically an extra 12 hours or so for my assignment.\",\n",
       "       'i was thinking of calling him while im crying and begging him to admit it, but i dont think i can pull that off cause ill get nervous and stop crying. \\n\\nis there anything i can do to get him to admit he is only with me for convenience sake?',\n",
       "       \"In about 8 hours I have a videocall in which my teacher will ask me some questions regarding the last few chapters of the book we're reading. Unfortunately I've procrastinated and so I'm here requesting your help. Is there a way I could put a program on my computer that makes my audio and video sound and look terrible, so bad that it's impossible to go on with the call, forcing her to postpone it? Thank you very much in advance.\",\n",
       "       \"Long story short, belongs to my mate's little brother. My mate blocked the 360 from connecting to the router, but his brother is just watching dvds on it now. He suggested we either collect cat piss or dust from the garage and put them into the 360. Want to make this look like an accident (the cat when let in will piss everywhere). Can't bash it in with a hammer (the 360, not the cat) and am looking for something more subtle.\",\n",
       "       \"My city has 2 universities and 1 college and they have made a deal with the bus service. For \\\\~$220 a term, full-time students receive a 'UPass' that allows them to use any bus/light rail in the city. Since my city borders another province, the UPass also works with their bus service.\\n\\nI will be taking 3 back-to-back terms from September-August. I have my own car and live 15 minutes from campus. If I were to take the bus, I would have to take a 30 minute bus ride with 20 minutes of walking.\\n\\nFrom what I've heard, it's incredibly hard to opt out. The college website lists these reasons for opting out:\\n\\n1. Ineligible students: Essentially students who enroll as full-time and later drop down to part-time. This will not apply to me.\\n2. Students who live outside of service areas: If they provide proof they live outside of the service area for buses. The documentation that they require as proof are recent utility bills and a driver's license. I live super close to 2 major bus stops, so this does not apply to me either.\\n3. Other: Students who have a medical exception. This was the route I was going to take, but I don't have any medical conditions, let alone one that would exempt me from taking the bus but still be allowed to drive.\\n\\nEssentially, if I don't opt-out of the UPass, I will be paying approximately $650 for the pass and an additional $700-$1000 for parking. And of course tuition and books on top of that.\\n\\nThe UPass is non-transferable. It will have my picture and name, the school's emblem and my student number. Students that have been caught selling them in the past have received fines upwards of $1000. They will cite a bylaw that says you can't sell transit passes unless you're an authorized vendor with the city.\\n\\nAny ideas? I'm not above lying, I just don't want to fake any documentation or do anything illegal.\",\n",
       "       'Especially when I know nothing about performing the job.',\n",
       "       \"I'm tired of feeling empathy, pain, and remorse. These things are greatly holding me back in life. I want to become a sociopath so that I can get what I want without giving a shit about other people or feeling any guilt for my actions. Any way I can do this?\",\n",
       "       '**Step 1** Pre-order a PS5 or Xbox Series X\\n\\n**Step 2** Wait for it to go out or stock\\n\\n**Step 3** Resell it on eBay for $$$$\\n\\n**PROFIT**',\n",
       "       \"I live in a really populated area on the edge of a huge city and this worked perfectly for me. I had cut down a pine on my property and had no way of disposing of it. Apparently some companies will gladly come and take it for mulch but not where I'm at.\\n\\nSo I waited until a huge storm swung through and drove around the most secluded area I could get to and found multiple big trees downed on the side of the road. Then all I did was dump the tree I had with the others.\\n\\nBonus: If anyone drives by like the cops, pretend you are loading your truck with wood for fire.\",\n",
       "       \"A neighbor has decided to use the lockdown as an opportunity to spend the last month or so incessantly hammering (on metal mind you) and angle/disc grinding from the early morning (I wake up to it) to the night, which is beyond irritating me.\\n\\nHow do I get back at them before I snap and climb over that fence and don't look back?\",\n",
       "       \"In this particular point in time, everyone is panic-buying, so Amazon has restricted non-essential item purchases in susceptible areas.\\n\\nCalled Amazon CS, and asked to price match a Walmart item (Reverse Osmosis system) and got $60 Amazon credits to buy the same item. Couldn't buy it from Amazon though because it wasn't considered essential (would ship a month later). Found a third party vendor not affected by Amazon delivery that sells a much better item for $30 more and asked Amazon to price match my already price matched item to that. A few Oscar worthy lines later, free next day shipping and a $90 discount.\",\n",
       "       'I responded to a job offer to take care of a dog. The scammer said that they will contact me tomorrow to give me money to pick up supplies. They will inevitable say that they sent me too much money and ask for money back, hoping i pay it back and later will realize that the check they sent me is fake- ect.ect. classic scam. How can I fuck with them?',\n",
       "       'I purchased a new printer just about 12 months ago. It started spitting out blank pages a couple days ago. I had purchased a 2 year replacement warranty from staples when I bought it. Today I took the printer back and the manager said they’ll just replace it and if I pay another $20 I can start the warranty over and have it run for another 2 years. They didn’t even look at my machine. I walked in and they almost immediately said , do you want the same printer or something different. I laid out my printer on the table and they immediately came back with a brand new one. So basically you can do this every year or maybe 18 months and just say “it stopped working” and pay $20 to extend out the warranty for another 2 years and just keep the cycle going. This is pretty much what the manager told me happens. He didn’t even act like it was a big deal to just keep getting a new printer every year.',\n",
       "       'https://discord.gg/TfSN5R\\n\\nRebates are visa or mastercard giftcards that are basically offered through different rebate programs. We offer them in a discounted price. Rebates are said to be delivered in 7-8 weeks but usually takes 2-3 weeks to process.\\n\\nEach rebate comes with a tracking number which can then be used to track the status of the rebate',\n",
       "       'my university is requiring I link a webcam to take tests, does anyone know of programs I can run that either loop a pre-recorded feed or put a still image in to replace that webcam feed?',\n",
       "       'I  hired someone to paint my bedroom. It should not have been very much at  all. Before she gave me the bill she got my sympathizing with her about  some cheapskate jerk who quibbled over the bill and ended up shorting  her on the bill.\\n\\nSo I\\'m standing  there like \"yea, some people, they just don\\'t appreciate the work people  do! how can people be so greedy? a deal\\'s a deal!!\" and so forth\\n\\nShe  gives me the invoice, I pay it, and it\\'s not until after she leaves  that I realize I paid her hundreds of dollars more than it should have  cost.\\n\\nThe LPT version of this is beware of people who pull this psychological trick.',\n",
       "       'Hey guys I have an overdue assignment. I told the professor that I had it done but i just forgot to submit it. I now have the assignment done but the date of file creation was a few days ago (which was past the deadline), my lecturer will 100% see this as he caught my friend a while who with this. \\nSo my question: is there a way to change the date of creation on a file?\\nI’ve used programs such as attribute changer but that only changes the date on my computer not when I send it to someone.',\n",
       "       'This guy is the worst for more reasons that I can count. He abused my mom up until the point she was diagnosed with cancer and then just was a general nuisance, living with my grandma rent free, and literally acting like he is a God until they broke up a few months ago. He talked to other girls while my mom was dying and then stole all my grandma\\'s tools when he left her. But constantly posts on Facebook about how great God is and makes daily posts asking for prayer requests like he literally think he has a direct line to God. He is genuinely the worst kind of human. I didn\\'t do anything forever because I knew if I did he would take it out on my mom by texting her and causing drama, so I kept and keep my mouth shut to continue not making drama. However, my mom passed about two weeks ago now and after he started commenting on my sister\\'s posts I reached out and, as politely as I could, told him to not contact my family and to please not post about my mom but feel free to grieve on his own. Not only did he immediately make a post about my mom but told me off for being rude when \"all he ever did was love\" my mom. \\n\\nSOOO I stole his number from my moms phone and I just want to annoy the shit out of him for as long as I possibly can. Any ideas?',\n",
       "       \"I attended my first semester of grad school last fall. It was an enormous mistake as I had no interest in going and had only gone due to family pressure. I was absolutely miserable and I decided to drop out once the semester was over. I'm not entirely sure why, but my financial aid never processed and as a result, I was left with an outstanding balance for my tuition. For reference I owe ~$2,200.\\n\\nI've been ignoring any emails and letters my school has been sending me. They've never called me and if they do, I will ignore those calls as well. I'm not going to beat around the bush and give excuses, I simply do not want to pay it. I have no interest in pursuing additional schooling in the future. I'm completely done with doing any of that and if my credit takes a hit then so be it. I have no plans on taking any loans out for anything in the future and I will very likely not be renting my own place anytime in the next 10 or so years.\\n\\nI would much rather save my money than pay off this bill and I would like to know how I can avoid paying it? If that isn't possible, is there a way I can at least pay as little as possible for the bill?\",\n",
       "       \"It's relatively old knowledge, but nowadays with the quarantine in effect I can't say a friendly reminder wouldn't be a bad thing.\",\n",
       "       'I live in in an apartment complex and these two lazy girls always park in the fire lane in front of the fire hydrant and in the handicap spot. Neither are handicap or have a pass and I’ve complained to the front office a few times and nothing has been done. Does anyone have a template or is willing to make one so I can give them realistic looking parking tickets to freak them out?',\n",
       "       \"You are banned for posting **new** comments. The ban doesn't extend to **editing** comments. You can still edit them and they do show in the sub.\\n\\nI've done this a few times. Pisses the mods off like a thumb in the butt.\",\n",
       "       \"My good for nothing brother in law lives with us. He plays Apex Legends on his PS4 till 7 am. The problem is that he sucks and rages when he loses. I hear that bitch throw tantrums at 2 am. \\n\\nI've told him many times to STFU but it doesn't stick into his head.\\n\\nIs there a way I can turn off his PS4 remotely?\",\n",
       "       \"ULPT:  this is the NYPD Corona virus snitch line if you live outside nyc the NYPD has no jurisdiction over you send all the weirdest photos you can think of... I know I'm gonna\",\n",
       "       '\"Some College\" is generally accepted as someone who holds an associates degree. \\n\\nhowever you meet the ambiguous requirement if you have an official transcript with at least 1 Unit on it. \\n\\nheard this on a podcast, and thought some of you dudes who lost your job due to \\'rona could help you out. \\n\\nchances of you getting called on it from HR are generally zero, I have a masters from U of Penn (online) which is an ivy league no one has ever asked to see a transcript or the degree. you need my student ID to verify my education at each institution i went to, nothing is tied to my SSN. so degrees do not come up on background checks and colleges cannot verify on first and last name alone.',\n",
       "       \"I'd like the money that comes with taking out a mortgage, but I'd prefer to not pay it back. Taking one out on my own house would inevitably involve losing my home, but I wouldn't mind losing my neighbor's.\",\n",
       "       'You can make between $1 and $7.50 (in crypto which can be easily sold and withdrawn to your bank account) for each person who downloads and uses the Brave browser using your referral link for a minimum of 30 days, this guide will show you how to setup your account to get a referral link and then how to advertise that link and get people to download it. The breakdown of how much you can receive per download can be found here: https://support.brave.com/hc/en-us/articles/360025284131\\n\\nStep 1) Download the [Brave Browser](https://brave.com/cpp495), it is similar to Google Chrome but it has a built in ad-blocker.\\n\\nStep 2) Setup your Brave Creator account using this guide: https://www.youtube.com/watch?v=50LK0d8jzL0\\n\\nStep 3) Login to the Brave Creator page and scroll to the bottom where you will see your connected accounts, beside them there is a buttton that says \"Referral Link\", click this to get your referral link which you will be advertising.\\n\\nStep 4) Now you can promote your link on social media and on other platforms to receive referral payouts every month.\\n\\nBrave Browser Download: [Link](https://brave.com/cpp495)',\n",
       "       \"Tired of being put on hold, talking to a robot, or generally being fucked around by a companies customer service hotline? Self Escalate!\\n\\nStep one: Locate the number for corporate headquarters. This is usually different than the customer service number and has a local area code.\\n\\nStep Two: Go on LinkedIn and see who may be a senior manager of customer relations, or in charge of the department causing you grief. He'll look up the CFO's name.\\n\\nStep three: Call corporate, get switchboard operater and politely ask to be put thru to whoever you think can solve your problem.\\n\\n***This may take a few attempts. LinkedIn isn't always accurate. Also, you can't ask the op for information. Do your homework. You need to give them the name or they will spam filter your ass quick.\\n\\nThis worked for me yesterday. Wait time was 4 hours. In about 30 min of research I had the executive vice president of customer relations on the phone for a big box store. Nice guy, we talked for a bit, complained about how hard B2B is, I told him that the wait music sucks, he agreed, and I got my issue resolved. Your mileage will vary depending on the situation. Most companies have a department dedicated to customer experience, if you are having a bad time, they truly want to know. It helps them fix the situation. So next time you want to tell at some poor bloke in India or ask for their manager, save yourself some time and call them directly. They are usually well paid and happy people, ask them how their companies customer experience helped them get where they are today.\",\n",
       "       \"When the boss asks why you have passwords on everything just say you are doing it for the company's security as you do not want any important info getting loose.\\n\\nThe boss now knows you have passwords and wont want to fire you easily.\",\n",
       "       \"Tl;dr: broke student, want to kill my MacBook and sell the repaired one(hopefully refurbished with new battery). \\n\\n\\nHi, I'm a student and the company which I was expected to intern at during the summer rescinded their offer. I will be in some desperate need of cash in the coming month so I wanted to spoil my 2017 MacBook pro before the applecare (not applecare+) ends. Hopefully, I can get a refurbished one and sell it.\\n\\nMy applecare does not cover ADH (accidental damage) or spills. I was thinking of getting a USB killer to fry the motherboard but after reading more about the coverage, I've noticed power surge is not covered. \\n\\nI've tried to bring a magnet close to the laptop which just makes the laptop to go to sleep.\\n\\nI have kept the laptop in pretty good shape so I also don't have the keyboard issue which many of the same generation MacBooks suffered from.\\n\\nAny tips appreciated! \\nThanks!\",\n",
       "       'Usually people are given a raise when they are about to have a baby to meet further expenses. And usually no one asks for medical reports to verify it. Once the raise is given, no one is going to take it back',\n",
       "       'As most collections offices are closed if you dispute items in your credit report the companies holding the debt will most likely not respond because the offices are closed so your debt gets automatically removed. Did this this week and had a dozen things removed without any responses from debt holder. Project Coronavirus mayhem...',\n",
       "       \" \\n\\nI originally posted this into r/IllegalLifeProTips but I think this subreddit is more fitting. It wouldn't allow me to crosspost for some reason so I just copy-pasted the post below.\\n\\nSo, this past August the Argentinian currency crashed hard. And it's still pretty bad. Steam initially sent out a memo to developers to update their prices to account for the currency devaluation but most have either ignored the message or updated it at still a permanent, enormous discount.\\n\\nAll you need to do (what worked for me), is sign up with a decent VPN, ExpressVPN did the trick for me but I'm sure Nord and whatnot work, and change your store location to Argentina. That's it.\\n\\nAll games are at a permanent discount, due to lack of price updates, even Steam's games themselves. Half-life Alyx, for example. 59.99USD In Argentina? 650 Pesos. or 9.93 USD. With no sale. Easily beating G2A prices and other shady key markets.\\n\\nWhen games go on sale, it gets really crazy. Currently, Dark Souls 3 costs a converted measly 1.68USD. Hell, Cyberpunk 2077 can be preordered for 33$. Nothing costs 60.\\n\\nI myself have picked up around 500 dollars worth of games and DLC for less than 70$. DLC for existing games is ridiculously cheap, A megalodon shark card in GTA V which usually costs 100$ costs 23$ in Argentina. The community market has accounted for the currency however, leading to situations where you can literally buy games by selling trading cards. As I may or may not have done with countless DLCs.\\n\\nEDIT: FORGOT TO INCLUDE - IMPORTANT. If you've succeeded with changing your store, you must use gift cards only!! Unless you have an Argentinian card. Don't worry about getting ripped off on your gift card as steam uses up to date currency exchange when changing into Argentinian pesos upon redeeming since all steam gift cards are worldwide. I find this ironic since they don't even bother updating the prices of their own games like Half-life Alyx.\",\n",
       "       'Does onlyfans have a way of finding out? If so can I get in trouble with the law since money is involved?',\n",
       "       'Works best entry level shift jobs. If you send in 2 or 3 emails from different email accounts complaining about one of your colleagues behaviour, they will eventually be let go.\\n\\nCan be that you were a customer in the store and this colleague started hitting on you, patronising you, insulted you etc.',\n",
       "       'Organize and spam orders like crazy so that it completely overwhelms their system and the workers revolt even faster. A massive uprising would force massive change.',\n",
       "       'Due to the corona virus, lots of businesses and churches are closed. That should mean lots of places just have empty dumpsters. If you have lots of stuff to throw out, rather than paying for a dump or what not, just throw it in the dumpsters that aren’t being used!',\n",
       "       \"If you can pull it off before the cop physically turns on their lights, the cop then faces a much more difficult target. It's hard to pull someone over if they're inside buying a slurpee, and they would need a warrant to search a parked vehicle.\",\n",
       "       'Greetings everyone\\nI am owed some money and I am not getting paid because the person keeps blaming their life conditions are too harsh to repay me (for the last 3 years, so has to be sketchy)\\nI appreciate any ideas reddit has in store on how to deal with these kind of situations, I cannot resort to violence or lawyers because I have no proof to back me as I was settled with words\\nThanks in advance',\n",
       "       'Beef burrito+ water= burrito soup\\nCheeseburger + water= cheeseburger soup\\nCeasar salad + water= salad soup\\n\\nThe possibilities are endless',\n",
       "       '\\n\\nNot sure what do do with them once it’s gifted to you?  Put them in a plastic container and list them as chinchilla dust for free on Craig’s or donate to the local animal society,',\n",
       "       'And make sure the information is still relevant/accurate! This probably wont work for some subjects',\n",
       "       \"My girlfriend and I play random rock paper scissors games for little prizes. Whoever loses has to do X, take out the trash, go to the store for cigs, whatever. I noticed after a bit that I habitually throw rock %90 of the time unless I'm actively trying not to. She figured it out and nearly always wins. So now when I want to win I just throw scissors, but I keep losing most of the time so I can win when it matters(to me).\",\n",
       "       '*Note: Any connections to real life or real people are merely coincidental.*\\n\\nSo, let\\'s say you\\'re the leader of a democratic country and an election is coming up soon. You\\'re very unpopular and are worried about your reelection chances, but you know one thing, that if fewer people vote then you are more likely to get reelected. You also happen to be ruling during a disaster that makes people afraid to go out to a polling location. Yes, it is already looking good for you, but you don\\'t think its enough to really turn the tide.\\n\\nYou then hear over the news that a lot of people want voting by mail nationwide. But you know that would then allow more people to vote which will make it harder for you to be reelected. You think to yourself: \"Man, wouldn\\'t it be easy if we could just cancel the election and I wouldn\\'t even have to worry about this?\" But you can\\'t do that, this is too blatant and obvious. But you then realize you have a national postal service that relies heavily on your funding to continue operations cost-effectively meaning they can provide postage to people for cheap. Then, you can realize something: people won\\'t want to pay money just to cast a ballot, after all, there is a crisis and money is going to be tight.\\n\\nYou can then institute national mail-in voting which will make you look more like a preserver of democracy, and then you can say that closing in-person polls will make things safer for everyone. Most people are going to agree and they\\'ll decide to cast a mail-in ballot. However, this is where you get them: defund their postal service and then they will have to pay money just to vote and a lot of people simply will not that. Now you look more like a preserver of democracy for bringing about a popular policy and you also get fewer people voting. Enjoy your next term!',\n",
       "       \" I was driving on the highway when these two asshole were swerving all over the road and throwing shit out of their window, hitting other cars as well as mine. i called the cops but I know they didn't do anything... tried following them, eventually lost them after they went down one way streets and blowing stop signs. anyway, i have information and want to find these fuckers. i have access to a tow truck, plan on taking the car and dropping it off in a handicap zone somewhere so they can get booted and whatever the fuck else.\",\n",
       "       'You know exactly where they live, just make sure all the lights are off so you know theyre asleep.',\n",
       "       'The less that see it the more chance you have to win 😈',\n",
       "       'Have you ever used cheat codes in games before?\\n\\nIt’s fun. You can get access to “hidden” and powerful rewards. Things you wouldn’t unlock if you played the game normally. \\n\\nI guess you can say it takes away from the fun of the game, but the point is…\\n\\nYou unlock cool stuff that gives you massive advantages.\\n\\nWell you can do the same thing with credit cards.\\n\\nThere’s a way to game the system…\\n\\nAnd unlock some awesome benefits you can take advantage of. \\n\\nThings like traveling completely free.\\n\\nImagine flying first class not economy…\\n\\nStaying at five-star luxurious hotels like the Ritz Carlton…\\n\\nAll completely paid for...by your credit card company. \\n\\nThat’s right.\\n\\nThere are credit “hacks” you can use to stack up awards that will let you travel in luxury completely free.\\n\\nThese are only a handful of benefits you can unlock while raising your credit score.\\n\\nAnd in this video, you’ll find out how I’ve been able to raise my credit score by over 50 points while stacking up rewards. \\n\\nCheck out this short video here: tailopez.com/credit/A3732328',\n",
       "       \"Does anybody here know where I can find a fake credit card generator, I've been looking at many websites, but most of them do not work when I try to get the Amazon Prime trial. Please help me out\",\n",
       "       'My exams are tomorrow and i can say i know most of the stuff that’s coming, there are a few things I haven’t studied well. My teachers want me to put my phone on the edge of the desk so both my monitor and i are completely visible. The only things i wanted to use were whatsapp web and google translate but switching tabs is very obvious on camera. I have several “solutions” like raising my screen’s brightness and letting in as much sunlight in the room as possible, camera quality through zoom sucks already so I’m guessing it’s gonna be hard to notice... do you guys have better solutions?',\n",
       "       'Basically what the title says, I bought a new car (for me) and found an unexpired credit card from Discover in the glove compartment. They told me they detailed the car but clearly they didn’t. Anyway that I can capitalize on this before the card gets shut off?'],\n",
       "      dtype=object)"
      ]
     },
     "execution_count": 120,
     "metadata": {},
     "output_type": "execute_result"
    }
   ],
   "source": [
    "df[\"selftext\"].unique()"
   ]
  },
  {
   "cell_type": "code",
   "execution_count": 261,
   "metadata": {},
   "outputs": [
    {
     "name": "stdout",
     "output_type": "stream",
     "text": [
      "519\n",
      "Percent [removed]: 51.9%\n",
      "28\n",
      "Percent [deleted]: 2.8000000000000003%\n",
      "76\n",
      "Percent NaN: 7.6%\n",
      "623\n",
      "Percent Total Probs: 62.3%\n"
     ]
    }
   ],
   "source": [
    "print((df[\"selftext\"] == \"[removed]\").sum())\n",
    "removed_selftext = (df[\"selftext\"] == \"[removed]\").sum()\n",
    "\n",
    "print(f\"Percent [removed]: {(removed_selftext / len(df)) * 100}%\")\n",
    "\n",
    "print((df[\"selftext\"] == \"[deleted]\").sum())\n",
    "deleted_selftext = (df[\"selftext\"] == \"[deleted]\").sum()\n",
    "\n",
    "print(f\"Percent [deleted]: {(deleted_selftext / len(df)) * 100}%\")\n",
    "\n",
    "print((df[\"selftext\"].isna().sum()))\n",
    "nan_selftext = df[\"selftext\"].isna().sum()\n",
    "\n",
    "print(f\"Percent NaN: {(nan_selftext / len(df)) * 100}%\")\n",
    "\n",
    "total_selftext_probs = removed_selftext + deleted_selftext + nan_selftext\n",
    "print(total_selftext_probs)\n",
    "\n",
    "print(f\"Percent Total Probs: {(total_selftext_probs / len(df)) * 100}%\")"
   ]
  },
  {
   "cell_type": "markdown",
   "metadata": {},
   "source": [
    "### Save Dataframe:"
   ]
  },
  {
   "cell_type": "code",
   "execution_count": 141,
   "metadata": {},
   "outputs": [],
   "source": [
    "pd.to_pickle(df, \"../datasets/df_model_1.2\")"
   ]
  },
  {
   "cell_type": "markdown",
   "metadata": {},
   "source": [
    "# First Model"
   ]
  },
  {
   "cell_type": "code",
   "execution_count": 114,
   "metadata": {},
   "outputs": [],
   "source": [
    "X = df[[\"title\", \"has_selftext\"]]\n",
    "y = df[\"subreddit\"]"
   ]
  },
  {
   "cell_type": "markdown",
   "metadata": {},
   "source": [
    "### Train/Test Split"
   ]
  },
  {
   "cell_type": "code",
   "execution_count": null,
   "metadata": {},
   "outputs": [],
   "source": [
    "X_train, X_test, y_train, y_test = train_test_split(X, \n",
    "                                                    y,\n",
    "                                                    test_size=0.33,\n",
    "                                                    random_state=42)"
   ]
  },
  {
   "cell_type": "markdown",
   "metadata": {},
   "source": [
    "### Create Count Vectorizer"
   ]
  },
  {
   "cell_type": "markdown",
   "metadata": {},
   "source": [
    "**Instantiate**"
   ]
  },
  {
   "cell_type": "code",
   "execution_count": null,
   "metadata": {},
   "outputs": [],
   "source": [
    "# Hyparams set to lesson defaults\n",
    "cvec = CountVectorizer()"
   ]
  },
  {
   "cell_type": "markdown",
   "metadata": {},
   "source": [
    "**Fit**"
   ]
  },
  {
   "cell_type": "code",
   "execution_count": null,
   "metadata": {},
   "outputs": [],
   "source": [
    "X_train_sc = cvec.fit_transform(X_train)\n",
    "X_test_sc = cvec.transform(X_test)"
   ]
  },
  {
   "cell_type": "code",
   "execution_count": null,
   "metadata": {},
   "outputs": [],
   "source": [
    "print(f\"X_train shape: {X_train_sc.shape}\")\n",
    "print(f\"X_test_sc shape: {X_test_sc.shape}\\n\")\n",
    "print(f\"X_train_sc feature names: {cvec.get_feature_names()[0:1000:250]}\")"
   ]
  },
  {
   "cell_type": "code",
   "execution_count": null,
   "metadata": {},
   "outputs": [],
   "source": [
    "# Baseline score:\n",
    "y_test.value_counts()  # even 50/50 split - may need to tweak this?"
   ]
  },
  {
   "cell_type": "markdown",
   "metadata": {},
   "source": [
    "### Create Estimator"
   ]
  },
  {
   "cell_type": "code",
   "execution_count": null,
   "metadata": {},
   "outputs": [],
   "source": [
    "# Instantiate\n"
   ]
  },
  {
   "cell_type": "code",
   "execution_count": null,
   "metadata": {},
   "outputs": [],
   "source": [
    "# Fit\n"
   ]
  },
  {
   "cell_type": "code",
   "execution_count": null,
   "metadata": {},
   "outputs": [],
   "source": [
    "# print(f\"Train score: {}\")\n",
    "# print(f\"Test score: {}\")"
   ]
  },
  {
   "cell_type": "markdown",
   "metadata": {},
   "source": [
    "### Second Model Score Notes:\n",
    "\n",
    "- "
   ]
  },
  {
   "cell_type": "code",
   "execution_count": null,
   "metadata": {},
   "outputs": [],
   "source": []
  },
  {
   "cell_type": "code",
   "execution_count": null,
   "metadata": {},
   "outputs": [],
   "source": []
  }
 ],
 "metadata": {
  "kernelspec": {
   "display_name": "Python [conda env:dsi]",
   "language": "python",
   "name": "conda-env-dsi-py"
  },
  "language_info": {
   "codemirror_mode": {
    "name": "ipython",
    "version": 3
   },
   "file_extension": ".py",
   "mimetype": "text/x-python",
   "name": "python",
   "nbconvert_exporter": "python",
   "pygments_lexer": "ipython3",
   "version": "3.7.6"
  }
 },
 "nbformat": 4,
 "nbformat_minor": 4
}
