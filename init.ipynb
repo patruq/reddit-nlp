{
 "cells": [
  {
   "cell_type": "code",
   "execution_count": 120,
   "metadata": {},
   "outputs": [],
   "source": [
    "import pandas as pd\n",
    "import requests"
   ]
  },
  {
   "cell_type": "markdown",
   "metadata": {},
   "source": [
    "# Function to call in Reddit info via API\n",
    "\n",
    "**Below: This function:**\n",
    "\n",
    "1) Variabilizes the 'base' url of the Pushshift API\n",
    "\n",
    "2) Uses two editable dictionaries of parameters to add-on to the API URL\n",
    "    - Current parameters are `subreddit` and `size`.\n",
    "\n",
    "3) Assign the `HTTP Reponse` request and variabilize the `status code`.\n",
    "\n",
    "4) An `if` statement checks that the value of the `status_code` for both subreddits are within the bounds of `Success 2XX`.\n",
    "\n",
    "5) If successful:\n",
    "    - The `JSON` is read-in for each subreddit, \n",
    "    - The posts are saved from each JSON, \n",
    "    - And the posts are cast into a Pandas DataFrame"
   ]
  },
  {
   "cell_type": "code",
   "execution_count": 141,
   "metadata": {},
   "outputs": [],
   "source": [
    "def generate_dataframes(subreddit_str_1, subreddit_str_2, size_1, size_2):\n",
    "    \n",
    "    # Setup URL of API\n",
    "    base_url = \"https://api.pushshift.io/reddit/search/submission\"    \n",
    "    \n",
    "    # Create the params of the API URL\n",
    "    params_1 = {\n",
    "        \"subreddit\": subreddit_str_1,\n",
    "        \"size\": size_1\n",
    "    }\n",
    "    params_2 = {\n",
    "        \"subreddit\": subreddit_str_2,\n",
    "        \"size\": size_2\n",
    "    }\n",
    "    \n",
    "    # Response\n",
    "    res_1 = requests.get(base_url, params_1)\n",
    "    res_2 = requests.get(base_url, params_2)\n",
    "    res_check_1 = res_1.status_code\n",
    "    res_check_2 = res_2.status_code\n",
    "    \n",
    "    # Check response is good\n",
    "    if (res_check_1 >= 200 and res_check_1 < 300) and (res_check_2 >= 200 and res_check_2 < 300):\n",
    "        \n",
    "        # Create DataFrame:\n",
    "        data_1 = res_1.json()\n",
    "        data_2 = res_2.json()\n",
    "        \n",
    "        posts_1 = data_1[\"data\"]\n",
    "        posts_2 = data_2[\"data\"]\n",
    "        \n",
    "        df_1 = pd.DataFrame(posts_1)\n",
    "        df_2 = pd.DataFrame(posts_2)\n",
    "        return df_1, df_2\n",
    "    else:\n",
    "        return f\"Check HTTP: {res_check1, res_check_2}\""
   ]
  },
  {
   "cell_type": "code",
   "execution_count": 139,
   "metadata": {
    "scrolled": true
   },
   "outputs": [],
   "source": [
    "lpt_df, ulpt_df = generate_dataframes(\"LifeProTips\", \"UnethicalLifeProTips\", 100, 100)"
   ]
  },
  {
   "cell_type": "code",
   "execution_count": null,
   "metadata": {},
   "outputs": [],
   "source": []
  },
  {
   "cell_type": "code",
   "execution_count": 20,
   "metadata": {},
   "outputs": [
    {
     "data": {
      "text/html": [
       "<div>\n",
       "<style scoped>\n",
       "    .dataframe tbody tr th:only-of-type {\n",
       "        vertical-align: middle;\n",
       "    }\n",
       "\n",
       "    .dataframe tbody tr th {\n",
       "        vertical-align: top;\n",
       "    }\n",
       "\n",
       "    .dataframe thead th {\n",
       "        text-align: right;\n",
       "    }\n",
       "</style>\n",
       "<table border=\"1\" class=\"dataframe\">\n",
       "  <thead>\n",
       "    <tr style=\"text-align: right;\">\n",
       "      <th></th>\n",
       "      <th>subreddit</th>\n",
       "      <th>title</th>\n",
       "      <th>selftext</th>\n",
       "    </tr>\n",
       "  </thead>\n",
       "  <tbody>\n",
       "    <tr>\n",
       "      <th>0</th>\n",
       "      <td>LifeProTips</td>\n",
       "      <td>LPT: need an expensive prescription drug but h...</td>\n",
       "      <td></td>\n",
       "    </tr>\n",
       "    <tr>\n",
       "      <th>1</th>\n",
       "      <td>LifeProTips</td>\n",
       "      <td>LPT: After a shower, dry yourself in there to ...</td>\n",
       "      <td>So, I personally don't know if doing that is j...</td>\n",
       "    </tr>\n",
       "    <tr>\n",
       "      <th>2</th>\n",
       "      <td>LifeProTips</td>\n",
       "      <td>LPT: After a shower, dry up in there to keep y...</td>\n",
       "      <td>[deleted]</td>\n",
       "    </tr>\n",
       "    <tr>\n",
       "      <th>3</th>\n",
       "      <td>LifeProTips</td>\n",
       "      <td>If shady people come up and ask you if your na...</td>\n",
       "      <td>NaN</td>\n",
       "    </tr>\n",
       "    <tr>\n",
       "      <th>4</th>\n",
       "      <td>LifeProTips</td>\n",
       "      <td>LPT: If you’re going to bring a birthday cake ...</td>\n",
       "      <td></td>\n",
       "    </tr>\n",
       "  </tbody>\n",
       "</table>\n",
       "</div>"
      ],
      "text/plain": [
       "     subreddit                                              title  \\\n",
       "0  LifeProTips  LPT: need an expensive prescription drug but h...   \n",
       "1  LifeProTips  LPT: After a shower, dry yourself in there to ...   \n",
       "2  LifeProTips  LPT: After a shower, dry up in there to keep y...   \n",
       "3  LifeProTips  If shady people come up and ask you if your na...   \n",
       "4  LifeProTips  LPT: If you’re going to bring a birthday cake ...   \n",
       "\n",
       "                                            selftext  \n",
       "0                                                     \n",
       "1  So, I personally don't know if doing that is j...  \n",
       "2                                          [deleted]  \n",
       "3                                                NaN  \n",
       "4                                                     "
      ]
     },
     "execution_count": 20,
     "metadata": {},
     "output_type": "execute_result"
    }
   ],
   "source": [
    "df[[\"subreddit\", \"title\", \"selftext\"]].head()  # Title has 'LPT' in it, could throw the model off "
   ]
  },
  {
   "cell_type": "code",
   "execution_count": null,
   "metadata": {},
   "outputs": [],
   "source": []
  }
 ],
 "metadata": {
  "kernelspec": {
   "display_name": "Python [conda env:dsi]",
   "language": "python",
   "name": "conda-env-dsi-py"
  },
  "language_info": {
   "codemirror_mode": {
    "name": "ipython",
    "version": 3
   },
   "file_extension": ".py",
   "mimetype": "text/x-python",
   "name": "python",
   "nbconvert_exporter": "python",
   "pygments_lexer": "ipython3",
   "version": "3.7.6"
  }
 },
 "nbformat": 4,
 "nbformat_minor": 4
}
